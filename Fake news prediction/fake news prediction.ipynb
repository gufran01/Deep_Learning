{
 "cells": [
  {
   "cell_type": "code",
   "execution_count": 1,
   "id": "e3bdd636",
   "metadata": {
    "_cell_guid": "b1076dfc-b9ad-4769-8c92-a6c4dae69d19",
    "_uuid": "8f2839f25d086af736a60e9eeb907d3b93b6e0e5",
    "execution": {
     "iopub.execute_input": "2024-05-13T05:06:37.120541Z",
     "iopub.status.busy": "2024-05-13T05:06:37.120122Z",
     "iopub.status.idle": "2024-05-13T05:06:38.229774Z",
     "shell.execute_reply": "2024-05-13T05:06:38.228626Z"
    },
    "papermill": {
     "duration": 1.123979,
     "end_time": "2024-05-13T05:06:38.232718",
     "exception": false,
     "start_time": "2024-05-13T05:06:37.108739",
     "status": "completed"
    },
    "tags": []
   },
   "outputs": [],
   "source": [
    "import pandas as pd"
   ]
  },
  {
   "cell_type": "code",
   "execution_count": 2,
   "id": "c3b37381",
   "metadata": {
    "execution": {
     "iopub.execute_input": "2024-05-13T05:06:38.253992Z",
     "iopub.status.busy": "2024-05-13T05:06:38.253387Z",
     "iopub.status.idle": "2024-05-13T05:06:41.224606Z",
     "shell.execute_reply": "2024-05-13T05:06:41.223496Z"
    },
    "papermill": {
     "duration": 2.984712,
     "end_time": "2024-05-13T05:06:41.227358",
     "exception": false,
     "start_time": "2024-05-13T05:06:38.242646",
     "status": "completed"
    },
    "tags": []
   },
   "outputs": [],
   "source": [
    "Fake_d=pd.read_csv(r\"C:\\Users\\khang\\Downloads\\archive (10)\\Fake.csv\")\n",
    "true_d=pd.read_csv(r\"C:\\Users\\khang\\Downloads\\archive (10)\\True.csv\")"
   ]
  },
  {
   "cell_type": "code",
   "execution_count": 3,
   "id": "b679b339",
   "metadata": {
    "execution": {
     "iopub.execute_input": "2024-05-13T05:06:41.247413Z",
     "iopub.status.busy": "2024-05-13T05:06:41.247021Z",
     "iopub.status.idle": "2024-05-13T05:06:41.259261Z",
     "shell.execute_reply": "2024-05-13T05:06:41.257839Z"
    },
    "papermill": {
     "duration": 0.02542,
     "end_time": "2024-05-13T05:06:41.261940",
     "exception": false,
     "start_time": "2024-05-13T05:06:41.236520",
     "status": "completed"
    },
    "tags": []
   },
   "outputs": [],
   "source": [
    "Fake['label']=0"
   ]
  },
  {
   "cell_type": "code",
   "execution_count": 4,
   "id": "02baf09c",
   "metadata": {
    "execution": {
     "iopub.execute_input": "2024-05-13T05:06:41.282571Z",
     "iopub.status.busy": "2024-05-13T05:06:41.281846Z",
     "iopub.status.idle": "2024-05-13T05:06:41.316344Z",
     "shell.execute_reply": "2024-05-13T05:06:41.314948Z"
    },
    "papermill": {
     "duration": 0.047846,
     "end_time": "2024-05-13T05:06:41.319042",
     "exception": false,
     "start_time": "2024-05-13T05:06:41.271196",
     "status": "completed"
    },
    "tags": []
   },
   "outputs": [
    {
     "data": {
      "text/html": [
       "<div>\n",
       "<style scoped>\n",
       "    .dataframe tbody tr th:only-of-type {\n",
       "        vertical-align: middle;\n",
       "    }\n",
       "\n",
       "    .dataframe tbody tr th {\n",
       "        vertical-align: top;\n",
       "    }\n",
       "\n",
       "    .dataframe thead th {\n",
       "        text-align: right;\n",
       "    }\n",
       "</style>\n",
       "<table border=\"1\" class=\"dataframe\">\n",
       "  <thead>\n",
       "    <tr style=\"text-align: right;\">\n",
       "      <th></th>\n",
       "      <th>title</th>\n",
       "      <th>text</th>\n",
       "      <th>subject</th>\n",
       "      <th>date</th>\n",
       "      <th>label</th>\n",
       "    </tr>\n",
       "  </thead>\n",
       "  <tbody>\n",
       "    <tr>\n",
       "      <th>0</th>\n",
       "      <td>Donald Trump Sends Out Embarrassing New Year’...</td>\n",
       "      <td>Donald Trump just couldn t wish all Americans ...</td>\n",
       "      <td>News</td>\n",
       "      <td>December 31, 2017</td>\n",
       "      <td>0</td>\n",
       "    </tr>\n",
       "    <tr>\n",
       "      <th>1</th>\n",
       "      <td>Drunk Bragging Trump Staffer Started Russian ...</td>\n",
       "      <td>House Intelligence Committee Chairman Devin Nu...</td>\n",
       "      <td>News</td>\n",
       "      <td>December 31, 2017</td>\n",
       "      <td>0</td>\n",
       "    </tr>\n",
       "    <tr>\n",
       "      <th>2</th>\n",
       "      <td>Sheriff David Clarke Becomes An Internet Joke...</td>\n",
       "      <td>On Friday, it was revealed that former Milwauk...</td>\n",
       "      <td>News</td>\n",
       "      <td>December 30, 2017</td>\n",
       "      <td>0</td>\n",
       "    </tr>\n",
       "    <tr>\n",
       "      <th>3</th>\n",
       "      <td>Trump Is So Obsessed He Even Has Obama’s Name...</td>\n",
       "      <td>On Christmas day, Donald Trump announced that ...</td>\n",
       "      <td>News</td>\n",
       "      <td>December 29, 2017</td>\n",
       "      <td>0</td>\n",
       "    </tr>\n",
       "    <tr>\n",
       "      <th>4</th>\n",
       "      <td>Pope Francis Just Called Out Donald Trump Dur...</td>\n",
       "      <td>Pope Francis used his annual Christmas Day mes...</td>\n",
       "      <td>News</td>\n",
       "      <td>December 25, 2017</td>\n",
       "      <td>0</td>\n",
       "    </tr>\n",
       "    <tr>\n",
       "      <th>...</th>\n",
       "      <td>...</td>\n",
       "      <td>...</td>\n",
       "      <td>...</td>\n",
       "      <td>...</td>\n",
       "      <td>...</td>\n",
       "    </tr>\n",
       "    <tr>\n",
       "      <th>23476</th>\n",
       "      <td>McPain: John McCain Furious That Iran Treated ...</td>\n",
       "      <td>21st Century Wire says As 21WIRE reported earl...</td>\n",
       "      <td>Middle-east</td>\n",
       "      <td>January 16, 2016</td>\n",
       "      <td>0</td>\n",
       "    </tr>\n",
       "    <tr>\n",
       "      <th>23477</th>\n",
       "      <td>JUSTICE? Yahoo Settles E-mail Privacy Class-ac...</td>\n",
       "      <td>21st Century Wire says It s a familiar theme. ...</td>\n",
       "      <td>Middle-east</td>\n",
       "      <td>January 16, 2016</td>\n",
       "      <td>0</td>\n",
       "    </tr>\n",
       "    <tr>\n",
       "      <th>23478</th>\n",
       "      <td>Sunnistan: US and Allied ‘Safe Zone’ Plan to T...</td>\n",
       "      <td>Patrick Henningsen  21st Century WireRemember ...</td>\n",
       "      <td>Middle-east</td>\n",
       "      <td>January 15, 2016</td>\n",
       "      <td>0</td>\n",
       "    </tr>\n",
       "    <tr>\n",
       "      <th>23479</th>\n",
       "      <td>How to Blow $700 Million: Al Jazeera America F...</td>\n",
       "      <td>21st Century Wire says Al Jazeera America will...</td>\n",
       "      <td>Middle-east</td>\n",
       "      <td>January 14, 2016</td>\n",
       "      <td>0</td>\n",
       "    </tr>\n",
       "    <tr>\n",
       "      <th>23480</th>\n",
       "      <td>10 U.S. Navy Sailors Held by Iranian Military ...</td>\n",
       "      <td>21st Century Wire says As 21WIRE predicted in ...</td>\n",
       "      <td>Middle-east</td>\n",
       "      <td>January 12, 2016</td>\n",
       "      <td>0</td>\n",
       "    </tr>\n",
       "  </tbody>\n",
       "</table>\n",
       "<p>23481 rows × 5 columns</p>\n",
       "</div>"
      ],
      "text/plain": [
       "                                                   title  \\\n",
       "0       Donald Trump Sends Out Embarrassing New Year’...   \n",
       "1       Drunk Bragging Trump Staffer Started Russian ...   \n",
       "2       Sheriff David Clarke Becomes An Internet Joke...   \n",
       "3       Trump Is So Obsessed He Even Has Obama’s Name...   \n",
       "4       Pope Francis Just Called Out Donald Trump Dur...   \n",
       "...                                                  ...   \n",
       "23476  McPain: John McCain Furious That Iran Treated ...   \n",
       "23477  JUSTICE? Yahoo Settles E-mail Privacy Class-ac...   \n",
       "23478  Sunnistan: US and Allied ‘Safe Zone’ Plan to T...   \n",
       "23479  How to Blow $700 Million: Al Jazeera America F...   \n",
       "23480  10 U.S. Navy Sailors Held by Iranian Military ...   \n",
       "\n",
       "                                                    text      subject  \\\n",
       "0      Donald Trump just couldn t wish all Americans ...         News   \n",
       "1      House Intelligence Committee Chairman Devin Nu...         News   \n",
       "2      On Friday, it was revealed that former Milwauk...         News   \n",
       "3      On Christmas day, Donald Trump announced that ...         News   \n",
       "4      Pope Francis used his annual Christmas Day mes...         News   \n",
       "...                                                  ...          ...   \n",
       "23476  21st Century Wire says As 21WIRE reported earl...  Middle-east   \n",
       "23477  21st Century Wire says It s a familiar theme. ...  Middle-east   \n",
       "23478  Patrick Henningsen  21st Century WireRemember ...  Middle-east   \n",
       "23479  21st Century Wire says Al Jazeera America will...  Middle-east   \n",
       "23480  21st Century Wire says As 21WIRE predicted in ...  Middle-east   \n",
       "\n",
       "                    date  label  \n",
       "0      December 31, 2017      0  \n",
       "1      December 31, 2017      0  \n",
       "2      December 30, 2017      0  \n",
       "3      December 29, 2017      0  \n",
       "4      December 25, 2017      0  \n",
       "...                  ...    ...  \n",
       "23476   January 16, 2016      0  \n",
       "23477   January 16, 2016      0  \n",
       "23478   January 15, 2016      0  \n",
       "23479   January 14, 2016      0  \n",
       "23480   January 12, 2016      0  \n",
       "\n",
       "[23481 rows x 5 columns]"
      ]
     },
     "execution_count": 4,
     "metadata": {},
     "output_type": "execute_result"
    }
   ],
   "source": [
    "Fake"
   ]
  },
  {
   "cell_type": "code",
   "execution_count": 5,
   "id": "5ba3b673",
   "metadata": {
    "execution": {
     "iopub.execute_input": "2024-05-13T05:06:41.340832Z",
     "iopub.status.busy": "2024-05-13T05:06:41.340423Z",
     "iopub.status.idle": "2024-05-13T05:06:41.346573Z",
     "shell.execute_reply": "2024-05-13T05:06:41.345242Z"
    },
    "papermill": {
     "duration": 0.020258,
     "end_time": "2024-05-13T05:06:41.349206",
     "exception": false,
     "start_time": "2024-05-13T05:06:41.328948",
     "status": "completed"
    },
    "tags": []
   },
   "outputs": [],
   "source": [
    "true['label']=1"
   ]
  },
  {
   "cell_type": "code",
   "execution_count": 6,
   "id": "1ed76739",
   "metadata": {
    "execution": {
     "iopub.execute_input": "2024-05-13T05:06:41.370631Z",
     "iopub.status.busy": "2024-05-13T05:06:41.370188Z",
     "iopub.status.idle": "2024-05-13T05:06:41.385381Z",
     "shell.execute_reply": "2024-05-13T05:06:41.384356Z"
    },
    "papermill": {
     "duration": 0.02884,
     "end_time": "2024-05-13T05:06:41.387905",
     "exception": false,
     "start_time": "2024-05-13T05:06:41.359065",
     "status": "completed"
    },
    "tags": []
   },
   "outputs": [
    {
     "data": {
      "text/html": [
       "<div>\n",
       "<style scoped>\n",
       "    .dataframe tbody tr th:only-of-type {\n",
       "        vertical-align: middle;\n",
       "    }\n",
       "\n",
       "    .dataframe tbody tr th {\n",
       "        vertical-align: top;\n",
       "    }\n",
       "\n",
       "    .dataframe thead th {\n",
       "        text-align: right;\n",
       "    }\n",
       "</style>\n",
       "<table border=\"1\" class=\"dataframe\">\n",
       "  <thead>\n",
       "    <tr style=\"text-align: right;\">\n",
       "      <th></th>\n",
       "      <th>title</th>\n",
       "      <th>text</th>\n",
       "      <th>subject</th>\n",
       "      <th>date</th>\n",
       "      <th>label</th>\n",
       "    </tr>\n",
       "  </thead>\n",
       "  <tbody>\n",
       "    <tr>\n",
       "      <th>0</th>\n",
       "      <td>As U.S. budget fight looms, Republicans flip t...</td>\n",
       "      <td>WASHINGTON (Reuters) - The head of a conservat...</td>\n",
       "      <td>politicsNews</td>\n",
       "      <td>December 31, 2017</td>\n",
       "      <td>1</td>\n",
       "    </tr>\n",
       "    <tr>\n",
       "      <th>1</th>\n",
       "      <td>U.S. military to accept transgender recruits o...</td>\n",
       "      <td>WASHINGTON (Reuters) - Transgender people will...</td>\n",
       "      <td>politicsNews</td>\n",
       "      <td>December 29, 2017</td>\n",
       "      <td>1</td>\n",
       "    </tr>\n",
       "    <tr>\n",
       "      <th>2</th>\n",
       "      <td>Senior U.S. Republican senator: 'Let Mr. Muell...</td>\n",
       "      <td>WASHINGTON (Reuters) - The special counsel inv...</td>\n",
       "      <td>politicsNews</td>\n",
       "      <td>December 31, 2017</td>\n",
       "      <td>1</td>\n",
       "    </tr>\n",
       "    <tr>\n",
       "      <th>3</th>\n",
       "      <td>FBI Russia probe helped by Australian diplomat...</td>\n",
       "      <td>WASHINGTON (Reuters) - Trump campaign adviser ...</td>\n",
       "      <td>politicsNews</td>\n",
       "      <td>December 30, 2017</td>\n",
       "      <td>1</td>\n",
       "    </tr>\n",
       "    <tr>\n",
       "      <th>4</th>\n",
       "      <td>Trump wants Postal Service to charge 'much mor...</td>\n",
       "      <td>SEATTLE/WASHINGTON (Reuters) - President Donal...</td>\n",
       "      <td>politicsNews</td>\n",
       "      <td>December 29, 2017</td>\n",
       "      <td>1</td>\n",
       "    </tr>\n",
       "    <tr>\n",
       "      <th>...</th>\n",
       "      <td>...</td>\n",
       "      <td>...</td>\n",
       "      <td>...</td>\n",
       "      <td>...</td>\n",
       "      <td>...</td>\n",
       "    </tr>\n",
       "    <tr>\n",
       "      <th>21412</th>\n",
       "      <td>'Fully committed' NATO backs new U.S. approach...</td>\n",
       "      <td>BRUSSELS (Reuters) - NATO allies on Tuesday we...</td>\n",
       "      <td>worldnews</td>\n",
       "      <td>August 22, 2017</td>\n",
       "      <td>1</td>\n",
       "    </tr>\n",
       "    <tr>\n",
       "      <th>21413</th>\n",
       "      <td>LexisNexis withdrew two products from Chinese ...</td>\n",
       "      <td>LONDON (Reuters) - LexisNexis, a provider of l...</td>\n",
       "      <td>worldnews</td>\n",
       "      <td>August 22, 2017</td>\n",
       "      <td>1</td>\n",
       "    </tr>\n",
       "    <tr>\n",
       "      <th>21414</th>\n",
       "      <td>Minsk cultural hub becomes haven from authorities</td>\n",
       "      <td>MINSK (Reuters) - In the shadow of disused Sov...</td>\n",
       "      <td>worldnews</td>\n",
       "      <td>August 22, 2017</td>\n",
       "      <td>1</td>\n",
       "    </tr>\n",
       "    <tr>\n",
       "      <th>21415</th>\n",
       "      <td>Vatican upbeat on possibility of Pope Francis ...</td>\n",
       "      <td>MOSCOW (Reuters) - Vatican Secretary of State ...</td>\n",
       "      <td>worldnews</td>\n",
       "      <td>August 22, 2017</td>\n",
       "      <td>1</td>\n",
       "    </tr>\n",
       "    <tr>\n",
       "      <th>21416</th>\n",
       "      <td>Indonesia to buy $1.14 billion worth of Russia...</td>\n",
       "      <td>JAKARTA (Reuters) - Indonesia will buy 11 Sukh...</td>\n",
       "      <td>worldnews</td>\n",
       "      <td>August 22, 2017</td>\n",
       "      <td>1</td>\n",
       "    </tr>\n",
       "  </tbody>\n",
       "</table>\n",
       "<p>21417 rows × 5 columns</p>\n",
       "</div>"
      ],
      "text/plain": [
       "                                                   title  \\\n",
       "0      As U.S. budget fight looms, Republicans flip t...   \n",
       "1      U.S. military to accept transgender recruits o...   \n",
       "2      Senior U.S. Republican senator: 'Let Mr. Muell...   \n",
       "3      FBI Russia probe helped by Australian diplomat...   \n",
       "4      Trump wants Postal Service to charge 'much mor...   \n",
       "...                                                  ...   \n",
       "21412  'Fully committed' NATO backs new U.S. approach...   \n",
       "21413  LexisNexis withdrew two products from Chinese ...   \n",
       "21414  Minsk cultural hub becomes haven from authorities   \n",
       "21415  Vatican upbeat on possibility of Pope Francis ...   \n",
       "21416  Indonesia to buy $1.14 billion worth of Russia...   \n",
       "\n",
       "                                                    text       subject  \\\n",
       "0      WASHINGTON (Reuters) - The head of a conservat...  politicsNews   \n",
       "1      WASHINGTON (Reuters) - Transgender people will...  politicsNews   \n",
       "2      WASHINGTON (Reuters) - The special counsel inv...  politicsNews   \n",
       "3      WASHINGTON (Reuters) - Trump campaign adviser ...  politicsNews   \n",
       "4      SEATTLE/WASHINGTON (Reuters) - President Donal...  politicsNews   \n",
       "...                                                  ...           ...   \n",
       "21412  BRUSSELS (Reuters) - NATO allies on Tuesday we...     worldnews   \n",
       "21413  LONDON (Reuters) - LexisNexis, a provider of l...     worldnews   \n",
       "21414  MINSK (Reuters) - In the shadow of disused Sov...     worldnews   \n",
       "21415  MOSCOW (Reuters) - Vatican Secretary of State ...     worldnews   \n",
       "21416  JAKARTA (Reuters) - Indonesia will buy 11 Sukh...     worldnews   \n",
       "\n",
       "                     date  label  \n",
       "0      December 31, 2017       1  \n",
       "1      December 29, 2017       1  \n",
       "2      December 31, 2017       1  \n",
       "3      December 30, 2017       1  \n",
       "4      December 29, 2017       1  \n",
       "...                   ...    ...  \n",
       "21412    August 22, 2017       1  \n",
       "21413    August 22, 2017       1  \n",
       "21414    August 22, 2017       1  \n",
       "21415    August 22, 2017       1  \n",
       "21416    August 22, 2017       1  \n",
       "\n",
       "[21417 rows x 5 columns]"
      ]
     },
     "execution_count": 6,
     "metadata": {},
     "output_type": "execute_result"
    }
   ],
   "source": [
    "true"
   ]
  },
  {
   "cell_type": "code",
   "execution_count": 7,
   "id": "ca9ca5c3",
   "metadata": {
    "execution": {
     "iopub.execute_input": "2024-05-13T05:06:41.411080Z",
     "iopub.status.busy": "2024-05-13T05:06:41.410646Z",
     "iopub.status.idle": "2024-05-13T05:06:41.426494Z",
     "shell.execute_reply": "2024-05-13T05:06:41.425651Z"
    },
    "papermill": {
     "duration": 0.030857,
     "end_time": "2024-05-13T05:06:41.428991",
     "exception": false,
     "start_time": "2024-05-13T05:06:41.398134",
     "status": "completed"
    },
    "tags": []
   },
   "outputs": [],
   "source": [
    "Fake.drop(columns=[\"title\",\"date\",\"subject\"],inplace=True)\n",
    "true.drop(columns=[\"title\",\"date\",\"subject\"],inplace=True)"
   ]
  },
  {
   "cell_type": "code",
   "execution_count": 8,
   "id": "94578030",
   "metadata": {
    "execution": {
     "iopub.execute_input": "2024-05-13T05:06:41.453924Z",
     "iopub.status.busy": "2024-05-13T05:06:41.452688Z",
     "iopub.status.idle": "2024-05-13T05:06:41.464036Z",
     "shell.execute_reply": "2024-05-13T05:06:41.462697Z"
    },
    "papermill": {
     "duration": 0.0262,
     "end_time": "2024-05-13T05:06:41.466410",
     "exception": false,
     "start_time": "2024-05-13T05:06:41.440210",
     "status": "completed"
    },
    "tags": []
   },
   "outputs": [
    {
     "data": {
      "text/html": [
       "<div>\n",
       "<style scoped>\n",
       "    .dataframe tbody tr th:only-of-type {\n",
       "        vertical-align: middle;\n",
       "    }\n",
       "\n",
       "    .dataframe tbody tr th {\n",
       "        vertical-align: top;\n",
       "    }\n",
       "\n",
       "    .dataframe thead th {\n",
       "        text-align: right;\n",
       "    }\n",
       "</style>\n",
       "<table border=\"1\" class=\"dataframe\">\n",
       "  <thead>\n",
       "    <tr style=\"text-align: right;\">\n",
       "      <th></th>\n",
       "      <th>text</th>\n",
       "      <th>label</th>\n",
       "    </tr>\n",
       "  </thead>\n",
       "  <tbody>\n",
       "    <tr>\n",
       "      <th>0</th>\n",
       "      <td>Donald Trump just couldn t wish all Americans ...</td>\n",
       "      <td>0</td>\n",
       "    </tr>\n",
       "    <tr>\n",
       "      <th>1</th>\n",
       "      <td>House Intelligence Committee Chairman Devin Nu...</td>\n",
       "      <td>0</td>\n",
       "    </tr>\n",
       "    <tr>\n",
       "      <th>2</th>\n",
       "      <td>On Friday, it was revealed that former Milwauk...</td>\n",
       "      <td>0</td>\n",
       "    </tr>\n",
       "    <tr>\n",
       "      <th>3</th>\n",
       "      <td>On Christmas day, Donald Trump announced that ...</td>\n",
       "      <td>0</td>\n",
       "    </tr>\n",
       "    <tr>\n",
       "      <th>4</th>\n",
       "      <td>Pope Francis used his annual Christmas Day mes...</td>\n",
       "      <td>0</td>\n",
       "    </tr>\n",
       "  </tbody>\n",
       "</table>\n",
       "</div>"
      ],
      "text/plain": [
       "                                                text  label\n",
       "0  Donald Trump just couldn t wish all Americans ...      0\n",
       "1  House Intelligence Committee Chairman Devin Nu...      0\n",
       "2  On Friday, it was revealed that former Milwauk...      0\n",
       "3  On Christmas day, Donald Trump announced that ...      0\n",
       "4  Pope Francis used his annual Christmas Day mes...      0"
      ]
     },
     "execution_count": 8,
     "metadata": {},
     "output_type": "execute_result"
    }
   ],
   "source": [
    "Fake.head()"
   ]
  },
  {
   "cell_type": "code",
   "execution_count": 9,
   "id": "a831be27",
   "metadata": {
    "execution": {
     "iopub.execute_input": "2024-05-13T05:06:41.489906Z",
     "iopub.status.busy": "2024-05-13T05:06:41.488709Z",
     "iopub.status.idle": "2024-05-13T05:06:41.499616Z",
     "shell.execute_reply": "2024-05-13T05:06:41.498487Z"
    },
    "papermill": {
     "duration": 0.025228,
     "end_time": "2024-05-13T05:06:41.502027",
     "exception": false,
     "start_time": "2024-05-13T05:06:41.476799",
     "status": "completed"
    },
    "tags": []
   },
   "outputs": [
    {
     "data": {
      "text/html": [
       "<div>\n",
       "<style scoped>\n",
       "    .dataframe tbody tr th:only-of-type {\n",
       "        vertical-align: middle;\n",
       "    }\n",
       "\n",
       "    .dataframe tbody tr th {\n",
       "        vertical-align: top;\n",
       "    }\n",
       "\n",
       "    .dataframe thead th {\n",
       "        text-align: right;\n",
       "    }\n",
       "</style>\n",
       "<table border=\"1\" class=\"dataframe\">\n",
       "  <thead>\n",
       "    <tr style=\"text-align: right;\">\n",
       "      <th></th>\n",
       "      <th>text</th>\n",
       "      <th>label</th>\n",
       "    </tr>\n",
       "  </thead>\n",
       "  <tbody>\n",
       "    <tr>\n",
       "      <th>0</th>\n",
       "      <td>WASHINGTON (Reuters) - The head of a conservat...</td>\n",
       "      <td>1</td>\n",
       "    </tr>\n",
       "    <tr>\n",
       "      <th>1</th>\n",
       "      <td>WASHINGTON (Reuters) - Transgender people will...</td>\n",
       "      <td>1</td>\n",
       "    </tr>\n",
       "    <tr>\n",
       "      <th>2</th>\n",
       "      <td>WASHINGTON (Reuters) - The special counsel inv...</td>\n",
       "      <td>1</td>\n",
       "    </tr>\n",
       "    <tr>\n",
       "      <th>3</th>\n",
       "      <td>WASHINGTON (Reuters) - Trump campaign adviser ...</td>\n",
       "      <td>1</td>\n",
       "    </tr>\n",
       "    <tr>\n",
       "      <th>4</th>\n",
       "      <td>SEATTLE/WASHINGTON (Reuters) - President Donal...</td>\n",
       "      <td>1</td>\n",
       "    </tr>\n",
       "  </tbody>\n",
       "</table>\n",
       "</div>"
      ],
      "text/plain": [
       "                                                text  label\n",
       "0  WASHINGTON (Reuters) - The head of a conservat...      1\n",
       "1  WASHINGTON (Reuters) - Transgender people will...      1\n",
       "2  WASHINGTON (Reuters) - The special counsel inv...      1\n",
       "3  WASHINGTON (Reuters) - Trump campaign adviser ...      1\n",
       "4  SEATTLE/WASHINGTON (Reuters) - President Donal...      1"
      ]
     },
     "execution_count": 9,
     "metadata": {},
     "output_type": "execute_result"
    }
   ],
   "source": [
    "true.head()"
   ]
  },
  {
   "cell_type": "code",
   "execution_count": 10,
   "id": "08289372",
   "metadata": {
    "execution": {
     "iopub.execute_input": "2024-05-13T05:06:41.525177Z",
     "iopub.status.busy": "2024-05-13T05:06:41.524203Z",
     "iopub.status.idle": "2024-05-13T05:06:41.538161Z",
     "shell.execute_reply": "2024-05-13T05:06:41.537057Z"
    },
    "papermill": {
     "duration": 0.028065,
     "end_time": "2024-05-13T05:06:41.540508",
     "exception": false,
     "start_time": "2024-05-13T05:06:41.512443",
     "status": "completed"
    },
    "tags": []
   },
   "outputs": [
    {
     "data": {
      "text/html": [
       "<div>\n",
       "<style scoped>\n",
       "    .dataframe tbody tr th:only-of-type {\n",
       "        vertical-align: middle;\n",
       "    }\n",
       "\n",
       "    .dataframe tbody tr th {\n",
       "        vertical-align: top;\n",
       "    }\n",
       "\n",
       "    .dataframe thead th {\n",
       "        text-align: right;\n",
       "    }\n",
       "</style>\n",
       "<table border=\"1\" class=\"dataframe\">\n",
       "  <thead>\n",
       "    <tr style=\"text-align: right;\">\n",
       "      <th></th>\n",
       "      <th>text</th>\n",
       "      <th>label</th>\n",
       "    </tr>\n",
       "  </thead>\n",
       "  <tbody>\n",
       "    <tr>\n",
       "      <th>0</th>\n",
       "      <td>Donald Trump just couldn t wish all Americans ...</td>\n",
       "      <td>0</td>\n",
       "    </tr>\n",
       "    <tr>\n",
       "      <th>1</th>\n",
       "      <td>House Intelligence Committee Chairman Devin Nu...</td>\n",
       "      <td>0</td>\n",
       "    </tr>\n",
       "    <tr>\n",
       "      <th>2</th>\n",
       "      <td>On Friday, it was revealed that former Milwauk...</td>\n",
       "      <td>0</td>\n",
       "    </tr>\n",
       "    <tr>\n",
       "      <th>3</th>\n",
       "      <td>On Christmas day, Donald Trump announced that ...</td>\n",
       "      <td>0</td>\n",
       "    </tr>\n",
       "    <tr>\n",
       "      <th>4</th>\n",
       "      <td>Pope Francis used his annual Christmas Day mes...</td>\n",
       "      <td>0</td>\n",
       "    </tr>\n",
       "    <tr>\n",
       "      <th>...</th>\n",
       "      <td>...</td>\n",
       "      <td>...</td>\n",
       "    </tr>\n",
       "    <tr>\n",
       "      <th>44893</th>\n",
       "      <td>BRUSSELS (Reuters) - NATO allies on Tuesday we...</td>\n",
       "      <td>1</td>\n",
       "    </tr>\n",
       "    <tr>\n",
       "      <th>44894</th>\n",
       "      <td>LONDON (Reuters) - LexisNexis, a provider of l...</td>\n",
       "      <td>1</td>\n",
       "    </tr>\n",
       "    <tr>\n",
       "      <th>44895</th>\n",
       "      <td>MINSK (Reuters) - In the shadow of disused Sov...</td>\n",
       "      <td>1</td>\n",
       "    </tr>\n",
       "    <tr>\n",
       "      <th>44896</th>\n",
       "      <td>MOSCOW (Reuters) - Vatican Secretary of State ...</td>\n",
       "      <td>1</td>\n",
       "    </tr>\n",
       "    <tr>\n",
       "      <th>44897</th>\n",
       "      <td>JAKARTA (Reuters) - Indonesia will buy 11 Sukh...</td>\n",
       "      <td>1</td>\n",
       "    </tr>\n",
       "  </tbody>\n",
       "</table>\n",
       "<p>44898 rows × 2 columns</p>\n",
       "</div>"
      ],
      "text/plain": [
       "                                                    text  label\n",
       "0      Donald Trump just couldn t wish all Americans ...      0\n",
       "1      House Intelligence Committee Chairman Devin Nu...      0\n",
       "2      On Friday, it was revealed that former Milwauk...      0\n",
       "3      On Christmas day, Donald Trump announced that ...      0\n",
       "4      Pope Francis used his annual Christmas Day mes...      0\n",
       "...                                                  ...    ...\n",
       "44893  BRUSSELS (Reuters) - NATO allies on Tuesday we...      1\n",
       "44894  LONDON (Reuters) - LexisNexis, a provider of l...      1\n",
       "44895  MINSK (Reuters) - In the shadow of disused Sov...      1\n",
       "44896  MOSCOW (Reuters) - Vatican Secretary of State ...      1\n",
       "44897  JAKARTA (Reuters) - Indonesia will buy 11 Sukh...      1\n",
       "\n",
       "[44898 rows x 2 columns]"
      ]
     },
     "execution_count": 10,
     "metadata": {},
     "output_type": "execute_result"
    }
   ],
   "source": [
    "News=pd.concat([Fake,true],ignore_index=True)\n",
    "News"
   ]
  },
  {
   "cell_type": "code",
   "execution_count": 11,
   "id": "5d00fd5d",
   "metadata": {
    "execution": {
     "iopub.execute_input": "2024-05-13T05:06:41.565537Z",
     "iopub.status.busy": "2024-05-13T05:06:41.565174Z",
     "iopub.status.idle": "2024-05-13T05:06:41.595903Z",
     "shell.execute_reply": "2024-05-13T05:06:41.594468Z"
    },
    "papermill": {
     "duration": 0.047394,
     "end_time": "2024-05-13T05:06:41.598848",
     "exception": false,
     "start_time": "2024-05-13T05:06:41.551454",
     "status": "completed"
    },
    "tags": []
   },
   "outputs": [
    {
     "name": "stdout",
     "output_type": "stream",
     "text": [
      "<class 'pandas.core.frame.DataFrame'>\n",
      "RangeIndex: 44898 entries, 0 to 44897\n",
      "Data columns (total 2 columns):\n",
      " #   Column  Non-Null Count  Dtype \n",
      "---  ------  --------------  ----- \n",
      " 0   text    44898 non-null  object\n",
      " 1   label   44898 non-null  int64 \n",
      "dtypes: int64(1), object(1)\n",
      "memory usage: 701.7+ KB\n"
     ]
    }
   ],
   "source": [
    "News.info()"
   ]
  },
  {
   "cell_type": "code",
   "execution_count": 12,
   "id": "781414ab",
   "metadata": {
    "execution": {
     "iopub.execute_input": "2024-05-13T05:06:41.624019Z",
     "iopub.status.busy": "2024-05-13T05:06:41.623612Z",
     "iopub.status.idle": "2024-05-13T05:06:41.641917Z",
     "shell.execute_reply": "2024-05-13T05:06:41.640558Z"
    },
    "papermill": {
     "duration": 0.034268,
     "end_time": "2024-05-13T05:06:41.644476",
     "exception": false,
     "start_time": "2024-05-13T05:06:41.610208",
     "status": "completed"
    },
    "tags": []
   },
   "outputs": [
    {
     "data": {
      "text/plain": [
       "text     0\n",
       "label    0\n",
       "dtype: int64"
      ]
     },
     "execution_count": 12,
     "metadata": {},
     "output_type": "execute_result"
    }
   ],
   "source": [
    "News.isnull().sum()"
   ]
  },
  {
   "cell_type": "code",
   "execution_count": 13,
   "id": "cb001405",
   "metadata": {
    "execution": {
     "iopub.execute_input": "2024-05-13T05:06:41.669155Z",
     "iopub.status.busy": "2024-05-13T05:06:41.668745Z",
     "iopub.status.idle": "2024-05-13T05:06:41.988660Z",
     "shell.execute_reply": "2024-05-13T05:06:41.987431Z"
    },
    "papermill": {
     "duration": 0.335462,
     "end_time": "2024-05-13T05:06:41.991254",
     "exception": false,
     "start_time": "2024-05-13T05:06:41.655792",
     "status": "completed"
    },
    "tags": []
   },
   "outputs": [
    {
     "data": {
      "text/plain": [
       "6251"
      ]
     },
     "execution_count": 13,
     "metadata": {},
     "output_type": "execute_result"
    }
   ],
   "source": [
    "News.duplicated().sum()"
   ]
  },
  {
   "cell_type": "code",
   "execution_count": 14,
   "id": "64c22dbd",
   "metadata": {
    "execution": {
     "iopub.execute_input": "2024-05-13T05:06:42.016052Z",
     "iopub.status.busy": "2024-05-13T05:06:42.015645Z",
     "iopub.status.idle": "2024-05-13T05:06:42.527416Z",
     "shell.execute_reply": "2024-05-13T05:06:42.525914Z"
    },
    "papermill": {
     "duration": 0.527635,
     "end_time": "2024-05-13T05:06:42.530224",
     "exception": false,
     "start_time": "2024-05-13T05:06:42.002589",
     "status": "completed"
    },
    "tags": []
   },
   "outputs": [
    {
     "data": {
      "text/plain": [
       "0"
      ]
     },
     "execution_count": 14,
     "metadata": {},
     "output_type": "execute_result"
    }
   ],
   "source": [
    "News.drop_duplicates(inplace=True)\n",
    "News.duplicated().sum()"
   ]
  },
  {
   "cell_type": "code",
   "execution_count": 15,
   "id": "49d4deed",
   "metadata": {
    "execution": {
     "iopub.execute_input": "2024-05-13T05:06:42.564166Z",
     "iopub.status.busy": "2024-05-13T05:06:42.563251Z",
     "iopub.status.idle": "2024-05-13T05:06:49.064562Z",
     "shell.execute_reply": "2024-05-13T05:06:49.063239Z"
    },
    "papermill": {
     "duration": 6.523414,
     "end_time": "2024-05-13T05:06:49.067425",
     "exception": false,
     "start_time": "2024-05-13T05:06:42.544011",
     "status": "completed"
    },
    "tags": []
   },
   "outputs": [],
   "source": [
    "import re\n",
    "import nltk\n",
    "from nltk.tokenize import word_tokenize\n",
    "from nltk.corpus import stopwords\n",
    "from nltk.stem import WordNetLemmatizer\n",
    "import numpy as np"
   ]
  },
  {
   "cell_type": "code",
   "execution_count": 16,
   "id": "abc8054b",
   "metadata": {
    "execution": {
     "iopub.execute_input": "2024-05-13T05:06:49.097563Z",
     "iopub.status.busy": "2024-05-13T05:06:49.097097Z",
     "iopub.status.idle": "2024-05-13T05:06:49.108564Z",
     "shell.execute_reply": "2024-05-13T05:06:49.107051Z"
    },
    "papermill": {
     "duration": 0.030939,
     "end_time": "2024-05-13T05:06:49.111734",
     "exception": false,
     "start_time": "2024-05-13T05:06:49.080795",
     "status": "completed"
    },
    "tags": []
   },
   "outputs": [],
   "source": [
    "def process_text(text):\n",
    "    text = re.sub(r'\\s+', ' ', text, flags=re.I) # Remove extra white space from text\n",
    "\n",
    "    text = re.sub(r'\\W', ' ', str(text)) # Remove all the special characters from text\n",
    "\n",
    "    text = re.sub(r'\\s+[a-zA-Z]\\s+', ' ', text) # Remove all single characters from text\n",
    "\n",
    "    text = re.sub(r'[^a-zA-Z\\s]', '', text) # Remove any character that isn't alphabetical\n",
    "\n",
    "    text = text.lower()\n",
    "\n",
    "    words = word_tokenize(text)\n",
    "\n",
    "    lemmatizer = WordNetLemmatizer()\n",
    "    words = [lemmatizer.lemmatize(word) for word in words]\n",
    "\n",
    "    stop_words = set(stopwords.words(\"english\"))\n",
    "    Words = [word for word in words if word not in stop_words]\n",
    "\n",
    "    Words = [word for word in Words if len(word) > 3]\n",
    "\n",
    "    indices = np.unique(Words, return_index=True)[1]\n",
    "    cleaned_text = np.array(Words)[np.sort(indices)].tolist()\n",
    "\n",
    "    return cleaned_text"
   ]
  },
  {
   "cell_type": "code",
   "execution_count": 17,
   "id": "50dbbe1a",
   "metadata": {
    "execution": {
     "iopub.execute_input": "2024-05-13T05:06:49.140192Z",
     "iopub.status.busy": "2024-05-13T05:06:49.139749Z",
     "iopub.status.idle": "2024-05-13T05:06:49.185311Z",
     "shell.execute_reply": "2024-05-13T05:06:49.184278Z"
    },
    "papermill": {
     "duration": 0.062786,
     "end_time": "2024-05-13T05:06:49.187859",
     "exception": false,
     "start_time": "2024-05-13T05:06:49.125073",
     "status": "completed"
    },
    "tags": []
   },
   "outputs": [],
   "source": [
    "x=News.drop('label',axis=1)\n",
    "y=News.label"
   ]
  },
  {
   "cell_type": "code",
   "execution_count": 18,
   "id": "becf3dfe",
   "metadata": {
    "execution": {
     "iopub.execute_input": "2024-05-13T05:06:49.216745Z",
     "iopub.status.busy": "2024-05-13T05:06:49.216309Z",
     "iopub.status.idle": "2024-05-13T05:06:49.231727Z",
     "shell.execute_reply": "2024-05-13T05:06:49.230523Z"
    },
    "papermill": {
     "duration": 0.032666,
     "end_time": "2024-05-13T05:06:49.234152",
     "exception": false,
     "start_time": "2024-05-13T05:06:49.201486",
     "status": "completed"
    },
    "tags": []
   },
   "outputs": [],
   "source": [
    "texts=list(x['text'])"
   ]
  },
  {
   "cell_type": "code",
   "execution_count": 19,
   "id": "814a7263",
   "metadata": {
    "execution": {
     "iopub.execute_input": "2024-05-13T05:06:49.262867Z",
     "iopub.status.busy": "2024-05-13T05:06:49.262493Z",
     "iopub.status.idle": "2024-05-13T05:11:52.966549Z",
     "shell.execute_reply": "2024-05-13T05:11:52.965023Z"
    },
    "papermill": {
     "duration": 303.721891,
     "end_time": "2024-05-13T05:11:52.969632",
     "exception": false,
     "start_time": "2024-05-13T05:06:49.247741",
     "status": "completed"
    },
    "tags": []
   },
   "outputs": [],
   "source": [
    "cleaned_text = [process_text(text) for text in texts]"
   ]
  },
  {
   "cell_type": "code",
   "execution_count": 20,
   "id": "79d80ab6",
   "metadata": {
    "execution": {
     "iopub.execute_input": "2024-05-13T05:11:52.999168Z",
     "iopub.status.busy": "2024-05-13T05:11:52.998019Z",
     "iopub.status.idle": "2024-05-13T05:11:53.005101Z",
     "shell.execute_reply": "2024-05-13T05:11:53.003850Z"
    },
    "papermill": {
     "duration": 0.024731,
     "end_time": "2024-05-13T05:11:53.008326",
     "exception": false,
     "start_time": "2024-05-13T05:11:52.983595",
     "status": "completed"
    },
    "tags": []
   },
   "outputs": [
    {
     "name": "stdout",
     "output_type": "stream",
     "text": [
      "[['donald', 'trump', 'wish', 'american', 'happy', 'year', 'leave', 'instead', 'give', 'shout', 'enemy', 'hater', 'dishonest', 'fake', 'news', 'medium', 'former', 'reality', 'show', 'star', 'country', 'rapidly', 'grows', 'stronger', 'smarter', 'want', 'friend', 'supporter', 'even', 'healthy', 'president', 'angry', 'pant', 'tweeted', 'great', 'america', 'realdonaldtrump', 'december', 'tweet', 'went', 'welll', 'expect', 'kind', 'sends', 'greeting', 'like', 'despicable', 'petty', 'infantile', 'gibberish', 'lack', 'decency', 'allow', 'rise', 'gutter', 'long', 'enough', 'citizen', 'bishop', 'talbert', 'swan', 'talbertswan', 'calvin', 'calvinstowell', 'impeachment', 'would', 'make', 'also', 'accept', 'regaining', 'control', 'congress', 'miranda', 'yaver', 'mirandayaver', 'hear', 'talk', 'include', 'many', 'people', 'hate', 'wonder', 'alan', 'sandoval', 'alansandoval', 'word', 'marlene', 'koren', 'pollitt', 'korencarpenter', 'including', 'fought', 'lost', 'badly', 'know', 'love', 'nothing', 'directed', 'message', 'easter', 'thanksgiving', 'anniversary', 'twitter', 'fpaekypa', 'daniel', 'dale', 'ddale', 'holiday', 'clearly', 'presidential', 'work', 'hallmark', 'becoming', 'steven', 'goodine', 'sgoodine', 'always', 'difference', 'last', 'filter', 'breaking', 'schulze', 'thbthttt', 'apart', 'teenager', 'term', 'wendy', 'wendywhistles', 'fucking', 'rainyday', 'voted', 'hole', 'thinking', 'change', 'power', 'wrong', 'older', 'photo', 'andrew', 'burton', 'getty', 'image'], ['house', 'intelligence', 'committee', 'chairman', 'devin', 'nunes', 'going', 'assumption', 'like', 'many', 'christopher', 'steele', 'dossier', 'prompted', 'russia', 'investigation', 'lashing', 'department', 'justice', 'order', 'protect', 'trump', 'happens', 'started', 'according', 'document', 'obtained', 'york', 'time', 'former', 'campaign', 'adviser', 'george', 'papadopoulos', 'drunk', 'wine', 'revealed', 'knowledge', 'russian', 'opposition', 'research', 'hillary', 'clinton', 'covfefe', 'administration', 'alleged', 'much', 'larger', 'role', 'none', 'damning', 'drunken', 'fool', 'coffee', 'help', 'arrange', 'meeting', 'president', 'abdel', 'fattah', 'sisi', 'egypt', 'month', 'election', 'known', 'aide', 'world', 'leader', 'team', 'merely', 'australian', 'diplomat', 'alexander', 'downer', 'official', 'shopping', 'around', 'possible', 'dirt', 'democratic', 'presidential', 'nominee', 'exactly', 'said', 'night', 'kensington', 'room', 'unclear', 'report', 'state', 'later', 'leaked', 'email', 'began', 'appearing', 'online', 'passed', 'information', 'american', 'counterpart', 'four', 'current', 'foreign', 'direct', 'pleaded', 'guilty', 'lying', 'cooperating', 'witness', 'special', 'counsel', 'robert', 'mueller', 'presidency', 'badly', 'scripted', 'reality', 'show', 'photo', 'mcnamee', 'getty', 'image'], ['friday', 'revealed', 'former', 'milwaukee', 'sheriff', 'david', 'clarke', 'considered', 'homeland', 'security', 'secretary', 'donald', 'trump', 'administration', 'email', 'scandal', 'january', 'brief', 'plane', 'fellow', 'passenger', 'black', 'later', 'detained', 'police', 'reason', 'whatsoever', 'except', 'maybe', 'feeling', 'hurt', 'messaged', 'stop', 'deplaned', 'search', 'warrant', 'executed', 'exchange', 'calling', 'fake', 'news', 'even', 'though', 'copy', 'internet', 'unintimidated', 'medium', 'attempt', 'smear', 'discredit', 'report', 'designed', 'silence', 'tweeted', 'continue', 'poke', 'sharp', 'stick', 'bitch', 'slap', 'scum', 'attacked', 'better', 'people', 'maga', 'twitter', 'xtzwpdub', 'sheriffclarke', 'december', 'breaking', 'lying', 'make', 'antidote', 'right', 'punch', 'nose', 'taste', 'blood', 'nothing', 'bully', 'like', 'attention', 'give', 'neverbackdown', 'tnypshcr', 'called', 'local', 'newspaper', 'chose', 'file', 'charge', 'time', 'mean', 'especially', 'month', 'decision', 'filed', 'http', 'zcbycwpb', 'keithleblanc', 'hope', 'rest', 'village', 'implicated', 'kirk', 'ketchum', 'kirkketchum', 'slaw', 'baked', 'potato', 'french', 'fwfxszupxy', 'immigration', 'altuscis', 'ymsobljfxu', 'pendulum', 'swinger', 'pendulumswngr', 'friend', 'stand', 'someone', 'made', 'chris', 'jackson', 'chriscjackson', 'masterful', 'pshop', 'seem', 'never', 'tire', 'think', 'steely', 'resolve', 'visible', 'dwrkzezv', 'mohney', 'chrismohney', 'indicating', 'finger', 'many', 'died', 'jail', 'short', 'dipshit', 'barinholtz', 'ikebarinholtz', 'rofl', 'tough', 'flair', 'ulcfddhkdy', 'kellmecrazy', 'kelmoonface', 'edgy', 'buddy', 'mrssmh', 'break', 'applebees', 'aaron', 'feltrrr', 'trying', 'earn', 'still', 'relevant', 'badge', 'circusrebel', 'circusdrew', 'sure', 'hydrate', 'drink', 'water', 'rumored', 'prisoner', 'denied', 'prison', 'official', 'robert', 'klinc', 'robertklinc', 'terrill', 'thomas', 'year', 'thirst', 'county', 'cell', 'april', 'victim', 'homicide', 'thought', 'point', 'repeated', 'enough', 'photo', 'spencer', 'platt', 'getty', 'image'], ['christmas', 'donald', 'trump', 'announced', 'would', 'back', 'work', 'following', 'golfing', 'fourth', 'former', 'reality', 'show', 'star', 'blasted', 'president', 'barack', 'obama', 'playing', 'golf', 'track', 'outpace', 'number', 'game', 'predecessor', 'played', 'updated', 'tracker', 'appearance', 'property', 'round', 'including', 'today', 'pace', 'first', 'term', 'total', 'july', 'next', 'year', 'http', 'fgvacxrtj', 'twitter', 'gemcjqtbh', 'philip', 'bump', 'pbump', 'december', 'make', 'washington', 'post', 'reporter', 'discovered', 'website', 'really', 'weird', 'everything', 'administration', 'bizarre', 'coding', 'contained', 'reference', 'unlike', 'working', 'problem', 'course', 'however', 'done', 'correctly', 'spent', 'several', 'coded', 'serve', 'message', 'event', 'internal', 'server', 'error', 'zrwpymxrcz', 'wiqsqnnzw', 'christopher', 'ingraham', 'cingraham', 'snippet', 'code', 'appears', 'dkhwalhb', 'page', 'footer', 'paid', 'oazdtb', 'also', 'ayblgmkz', 'others', 'noted', 'thread', 'clear', 'ever', 'actually', 'display', 'know', 'called', 'deleted', 'update', 'removed', 'fixed', 'javascript', 'still', 'since', 'actual', 'presumably', 'different', 'zdmyqsmy', 'suggests', 'someone', 'either', 'admin', 'sensitive', 'enough', 'issue', 'away', 'quickly', 'people', 'noticed', 'idea', 'much', 'love', 'email', 'exchange', 'cked', 'best', 'part', 'using', 'assignment', 'operator', 'mean', 'never', 'look', 'line', 'errorcode', 'always', 'twtrsux', 'coder', 'nobody', 'surprised', 'peterson', 'timrpeterson', 'obsessed', 'name', 'even', 'photo', 'raedle', 'getty', 'image'], ['pope', 'francis', 'used', 'annual', 'christmas', 'message', 'rebuke', 'donald', 'trump', 'without', 'even', 'mentioning', 'name', 'delivered', 'member', 'united', 'nation', 'condemned', 'move', 'recognize', 'jerusalem', 'capital', 'israel', 'pontiff', 'prayed', 'monday', 'peaceful', 'coexistence', 'state', 'within', 'mutually', 'agreed', 'internationally', 'recognized', 'border', 'jesus', 'child', 'middle', 'east', 'continue', 'suffer', 'growing', 'tension', 'israeli', 'palestinian', 'said', 'festive', 'lord', 'peace', 'holy', 'land', 'pray', 'resume', 'dialogue', 'prevail', 'party', 'negotiated', 'solution', 'finally', 'reached', 'went', 'plead', 'acceptance', 'refugee', 'forced', 'home', 'issue', 'continues', 'fight', 'place', 'analogy', 'today', 'wind', 'blowing', 'world', 'outdated', 'model', 'development', 'produce', 'human', 'societal', 'environmental', 'decline', 'invite', 'focus', 'sign', 'face', 'little', 'especially', 'like', 'know', 'well', 'pain', 'welcomed', 'hard', 'head', 'added', 'heart', 'closed', 'bethlehem', 'mary', 'joseph', 'immigrant', 'struggled', 'find', 'safe', 'stay', 'leave', 'people', 'comfortable', 'easy', 'journey', 'young', 'couple', 'full', 'hope', 'expectation', 'born', 'step', 'weighed', 'uncertainty', 'danger', 'attend', 'behind', 'many', 'footstep', 'hidden', 'sunday', 'track', 'entire', 'family', 'million', 'person', 'choose', 'away', 'driven', 'dear', 'amen', 'photo', 'christopher', 'furlong', 'getty', 'image'], ['number', 'case', 'brutalizing', 'killing', 'people', 'color', 'seems', 'another', 'need', 'shared', 'wide', 'alabama', 'woman', 'name', 'angela', 'williams', 'graphic', 'photo', 'lying', 'hospital', 'beaten', 'fractured', 'face', 'facebook', 'unacceptable', 'unclear', 'police', 'custody', 'sort', 'altercation', 'resulted', 'arrest', 'realize', 'detail', 'matter', 'supposed', 'beat', 'brutalize', 'post', 'express', 'hope', 'body', 'camera', 'beating', 'think', 'know', 'kind', 'convenient', 'malfunction', 'explain', 'away', 'lack', 'existence', 'dash', 'footage', 'clearly', 'brutal', 'hell', 'could', 'even', 'described', 'attempted', 'murder', 'something', 'tell', 'young', 'never', 'without', 'troy', 'finest', 'decided', 'appropriate', 'treatment', 'perceived', 'crime', 'might', 'completely', 'jail', 'long', 'time', 'paid', 'vacation', 'force', 'investigates', 'officer', 'returned', 'duty', 'posthaste', 'folk', 'black', 'life', 'would', 'happened', 'white', 'please', 'share', 'stay', 'tuned', 'addicting', 'info', 'update', 'featured', 'image', 'david', 'mcnew', 'stringer', 'getty'], ['donald', 'trump', 'spent', 'good', 'portion', 'golf', 'club', 'marking', 'done', 'since', 'taking', 'oath', 'office', 'must', 'game', 'lashed', 'deputy', 'director', 'andrew', 'mccabe', 'twitter', 'following', 'report', 'saying', 'plan', 'retire', 'month', 'follows', 'testimony', 'front', 'congressional', 'committee', 'week', 'well', 'mounting', 'criticism', 'republican', 'regarding', 'russia', 'probe', 'naturally', 'attacked', 'charge', 'along', 'leakin', 'james', 'comey', 'phony', 'hillary', 'clinton', 'investigation', 'including', 'illegally', 'deleted', 'email', 'given', 'wife', 'campaign', 'puppet', 'tweeted', 'realdonaldtrump', 'december', 'stop', 'racing', 'clock', 'full', 'benefit', 'lawyer', 'baker', 'reassigned', 'according', 'foxnews', 'intel', 'disposal', 'getting', 'information', 'news', 'career', 'fight', 'terrorism', 'called', 'president', 'fact', 'checked', 'claim', 'receiving', 'politifact', 'noted', 'late', 'july', 'tweet', 'significant', 'distortion', 'implication', 'political', 'favor', 'make', 'much', 'sense', 'look', 'evidence', 'rated', 'mostly', 'false', 'repeat', 'know', 'supporter', 'believe', 'without', 'bothering', 'google', 'still', 'though', 'photo', 'zach', 'gibson', 'pool', 'getty', 'image'], ['wake', 'another', 'court', 'decision', 'derailed', 'donald', 'trump', 'plan', 'muslim', 'entering', 'united', 'state', 'york', 'time', 'published', 'report', 'saturday', 'morning', 'detailing', 'president', 'frustration', 'getting', 'back', 'according', 'article', 'june', 'stomped', 'oval', 'office', 'furious', 'travel', 'thought', 'would', 'implemented', 'fully', 'place', 'instead', 'fumed', 'visa', 'already', 'issued', 'immigrant', 'rate', 'friend', 'calling', 'looked', 'like', 'fool', 'making', 'broad', 'pronouncement', 'began', 'reading', 'document', 'advisor', 'noted', 'white', 'supremacist', 'stephen', 'miller', 'handed', 'meeting', 'cabinet', 'page', 'listed', 'many', 'year', 'included', 'afghanistan', 'country', 'haiti', 'also', 'nigeria', 'sensing', 'pattern', 'expressed', 'dismay', 'witness', 'room', 'spoke', 'condition', 'anonymity', 'interviewed', 'along', 'three', 'dozen', 'others', 'called', 'fault', 'read', 'terrorist', 'people', 'never', 'glory', 'america', 'despite', 'extensive', 'research', 'done', 'newspaper', 'house', 'course', 'denies', 'language', 'used', 'given', 'racist', 'history', 'blatant', 'nationalism', 'surprise', 'freedom', 'information', 'request', 'turned', 'question', 'statement', 'printed', 'inline', 'commentary', 'punctuate', 'anger', 'responsible', 'american', 'carnage', 'speech', 'delivered', 'inauguration', 'menace', 'represent', 'anything', 'stand', 'hope', 'indictment', 'robert', 'mueller', 'speak', 'featured', 'image', 'chris', 'kleponis', 'pool', 'getty'], ['many', 'people', 'raised', 'alarm', 'regarding', 'fact', 'donald', 'trump', 'dangerously', 'close', 'becoming', 'autocrat', 'thing', 'democracy', 'become', 'autocracy', 'right', 'nose', 'often', 'look', 'like', 'beginning', 'phase', 'explained', 'republican', 'david', 'frum', 'couple', 'month', 'presidency', 'piece', 'atlantic', 'called', 'build', 'really', 'critically', 'happening', 'systematic', 'discrediting', 'vital', 'institution', 'free', 'press', 'federal', 'bureau', 'investigation', 'well', 'direct', 'weaponization', 'department', 'justice', 'order', 'former', 'political', 'opponent', 'democratic', 'nominee', 'hillary', 'clinton', 'making', 'chamber', 'congress', 'house', 'representative', 'already', 'rogue', 'band', 'running', 'parallel', 'official', 'russian', 'collusion', 'explicit', 'intent', 'undermining', 'idea', 'could', 'possibly', 'done', 'anything', 'wrong', 'swing', 'election', 'favor', 'starter', 'united', 'nation', 'ambassador', 'nikki', 'haley', 'bully', 'threaten', 'country', 'voted', 'decision', 'change', 'policy', 'come', 'recognition', 'jerusalem', 'capital', 'jewish', 'state', 'expert', 'usually', 'quite', 'measured', 'enough', 'autocratic', 'antic', 'director', 'john', 'brennan', 'seasoned', 'took', 'favorite', 'platform', 'twitter', 'blasted', 'admin', 'threat', 'retaliate', 'exercise', 'sovereign', 'oppose', 'position', 'beyond', 'outrageous', 'show', 'realdonaldtrump', 'expects', 'blind', 'loyalty', 'subservience', 'everyone', 'quality', 'found', 'narcissistic', 'vengeful', 'johnbrennan', 'december', 'correct', 'course', 'behaving', 'asleep', 'dangerous', 'greatest', 'fabric', 'republic', 'american', 'president', 'fellow', 'know', 'check', 'supposed', 'time', 'flip', 'senate', 'resist', 'meantime', 'want', 'save', 'devolving', 'something', 'russia', 'north', 'korea', 'america', 'always', 'featured', 'image', 'brendan', 'smialowski', 'getty'], ['might', 'thought', 'break', 'watching', 'people', 'kiss', 'donald', 'trump', 'stroke', 'nauseam', 'group', 'creates', 'nothing', 'even', 'exact', 'thing', 'america', 'first', 'policy', 'release', 'called', 'thank', 'president', 'christmas', 'well', 'threw', 'little', 'mouth', 'trying', 'watch', 'basically', 'spot', 'fawning', 'stuff', 'actually', 'done', 'includes', 'scene', 'girl', 'thanking', 'bringing', 'back', 'merry', 'never', 'went', 'away', 'video', 'obama', 'saying', 'thanks', 'cutting', 'everyday', 'american', 'everywhere', 'great', 'awesome', 'best', 'nobody', 'ever', 'breaking', 'kind', 'record', 'every', 'believe', 'anyway', 'word', 'propaganda', 'come', 'mind', 'literal', 'promoting', 'someone', 'need', 'promotion', 'anymore', 'bullshit', 'magas', 'kowtowing', 'orange', 'hitler', 'disgusting', 'frightening', 'harm', 'unfortunately', 'take', 'obscene', 'amount', 'pain', 'open', 'duped', 'hairdo', 'ongoing', 'adoration', 'unbecoming', 'office', 'vile', 'featured', 'image', 'drago', 'pool', 'getty']]\n"
     ]
    }
   ],
   "source": [
    "print(cleaned_text[:10])"
   ]
  },
  {
   "cell_type": "code",
   "execution_count": 21,
   "id": "7107e735",
   "metadata": {
    "execution": {
     "iopub.execute_input": "2024-05-13T05:11:53.037252Z",
     "iopub.status.busy": "2024-05-13T05:11:53.036841Z",
     "iopub.status.idle": "2024-05-13T05:11:53.067061Z",
     "shell.execute_reply": "2024-05-13T05:11:53.065520Z"
    },
    "papermill": {
     "duration": 0.048074,
     "end_time": "2024-05-13T05:11:53.070113",
     "exception": false,
     "start_time": "2024-05-13T05:11:53.022039",
     "status": "completed"
    },
    "tags": []
   },
   "outputs": [],
   "source": [
    "from sklearn.model_selection import train_test_split\n",
    "X_train, X_test, y_train, y_test = train_test_split(cleaned_text, y, test_size=0.2, random_state=42)"
   ]
  },
  {
   "cell_type": "code",
   "execution_count": 22,
   "id": "545a67df",
   "metadata": {
    "execution": {
     "iopub.execute_input": "2024-05-13T05:11:53.100151Z",
     "iopub.status.busy": "2024-05-13T05:11:53.099703Z",
     "iopub.status.idle": "2024-05-13T05:12:18.988656Z",
     "shell.execute_reply": "2024-05-13T05:12:18.987205Z"
    },
    "papermill": {
     "duration": 25.907116,
     "end_time": "2024-05-13T05:12:18.991655",
     "exception": false,
     "start_time": "2024-05-13T05:11:53.084539",
     "status": "completed"
    },
    "tags": []
   },
   "outputs": [
    {
     "name": "stdout",
     "output_type": "stream",
     "text": [
      "the size of vocab = 91495\n"
     ]
    }
   ],
   "source": [
    "from tensorflow.keras.preprocessing.text import Tokenizer\n",
    "from tensorflow.keras.preprocessing.sequence import pad_sequences\n",
    "\n",
    "\n",
    "tokenizer = Tokenizer()\n",
    "tokenizer.fit_on_texts(X_train)\n",
    "word_idx = tokenizer.word_index  # Corrected syntax for accessing word index\n",
    "v = len(word_idx)\n",
    "print(\"the size of vocab =\", v)  # Corrected spacing\n",
    "X_train = tokenizer.texts_to_sequences(X_train)\n",
    "X_test = tokenizer.texts_to_sequences(X_test)"
   ]
  },
  {
   "cell_type": "code",
   "execution_count": 23,
   "id": "bbdae508",
   "metadata": {
    "execution": {
     "iopub.execute_input": "2024-05-13T05:12:19.024937Z",
     "iopub.status.busy": "2024-05-13T05:12:19.023066Z",
     "iopub.status.idle": "2024-05-13T05:12:19.645787Z",
     "shell.execute_reply": "2024-05-13T05:12:19.644101Z"
    },
    "papermill": {
     "duration": 0.642945,
     "end_time": "2024-05-13T05:12:19.648841",
     "exception": false,
     "start_time": "2024-05-13T05:12:19.005896",
     "status": "completed"
    },
    "tags": []
   },
   "outputs": [],
   "source": [
    "from tensorflow.keras.preprocessing.sequence import pad_sequences\n",
    "\n",
    "maxlen = 150\n",
    "X_train = pad_sequences(X_train,maxlen=maxlen)\n",
    "X_test = pad_sequences(X_test,maxlen=maxlen)"
   ]
  },
  {
   "cell_type": "code",
   "execution_count": 24,
   "id": "369b34fb",
   "metadata": {
    "execution": {
     "iopub.execute_input": "2024-05-13T05:12:19.681505Z",
     "iopub.status.busy": "2024-05-13T05:12:19.681055Z",
     "iopub.status.idle": "2024-05-13T05:12:19.694740Z",
     "shell.execute_reply": "2024-05-13T05:12:19.693602Z"
    },
    "papermill": {
     "duration": 0.033226,
     "end_time": "2024-05-13T05:12:19.697336",
     "exception": false,
     "start_time": "2024-05-13T05:12:19.664110",
     "status": "completed"
    },
    "tags": []
   },
   "outputs": [
    {
     "data": {
      "text/plain": [
       "label\n",
       "1    21192\n",
       "0    17455\n",
       "Name: count, dtype: int64"
      ]
     },
     "execution_count": 24,
     "metadata": {},
     "output_type": "execute_result"
    }
   ],
   "source": [
    "y.value_counts()"
   ]
  },
  {
   "cell_type": "code",
   "execution_count": 25,
   "id": "f980f6a0",
   "metadata": {
    "execution": {
     "iopub.execute_input": "2024-05-13T05:12:19.734018Z",
     "iopub.status.busy": "2024-05-13T05:12:19.733095Z",
     "iopub.status.idle": "2024-05-13T05:12:19.751217Z",
     "shell.execute_reply": "2024-05-13T05:12:19.748829Z"
    },
    "papermill": {
     "duration": 0.041491,
     "end_time": "2024-05-13T05:12:19.755730",
     "exception": false,
     "start_time": "2024-05-13T05:12:19.714239",
     "status": "completed"
    },
    "tags": []
   },
   "outputs": [],
   "source": [
    "from keras.models import Sequential\n",
    "from keras.layers import Embedding, LSTM, Dense,Input,GlobalMaxPooling1D,Dropout\n",
    "from tensorflow.keras.models import Model\n",
    "from keras import optimizers\n",
    "import numpy as np\n",
    "from tensorflow.keras.optimizers import Adam"
   ]
  },
  {
   "cell_type": "code",
   "execution_count": 26,
   "id": "53cf9cd6",
   "metadata": {
    "execution": {
     "iopub.execute_input": "2024-05-13T05:12:19.790755Z",
     "iopub.status.busy": "2024-05-13T05:12:19.790355Z",
     "iopub.status.idle": "2024-05-13T05:12:20.060387Z",
     "shell.execute_reply": "2024-05-13T05:12:20.058420Z"
    },
    "papermill": {
     "duration": 0.291545,
     "end_time": "2024-05-13T05:12:20.064447",
     "exception": false,
     "start_time": "2024-05-13T05:12:19.772902",
     "status": "completed"
    },
    "tags": []
   },
   "outputs": [],
   "source": [
    "inputt=Input(shape=(maxlen,))\n",
    "learning_rate = 0.0001\n",
    "x=Embedding(v+1,100)(inputt)\n",
    "x = Dropout(0.5)(x)\n",
    "x = LSTM(150,return_sequences=True)(x)\n",
    "x = Dropout(0.5)(x)\n",
    "x = GlobalMaxPooling1D()(x)\n",
    "x = Dense(64, activation='relu')(x)\n",
    "x = Dropout(0.5)(x)\n",
    "x = Dense(2, activation='softmax')(x)\n",
    "\n",
    "model = Model(inputt, x)\n",
    "\n",
    "# Define optimizer with specified learning rate\n",
    "optimizer = Adam(learning_rate=learning_rate)\n",
    "\n",
    "model.compile(optimizer=optimizer, loss='categorical_crossentropy', metrics=['accuracy'])"
   ]
  },
  {
   "cell_type": "code",
   "execution_count": 27,
   "id": "beaadd5d",
   "metadata": {
    "execution": {
     "iopub.execute_input": "2024-05-13T05:12:20.102958Z",
     "iopub.status.busy": "2024-05-13T05:12:20.102523Z",
     "iopub.status.idle": "2024-05-13T05:12:20.115747Z",
     "shell.execute_reply": "2024-05-13T05:12:20.113850Z"
    },
    "papermill": {
     "duration": 0.037611,
     "end_time": "2024-05-13T05:12:20.119833",
     "exception": false,
     "start_time": "2024-05-13T05:12:20.082222",
     "status": "completed"
    },
    "tags": []
   },
   "outputs": [],
   "source": [
    "from sklearn.preprocessing import LabelEncoder\n",
    "\n",
    "label_encoder = LabelEncoder()\n",
    "y_train_encoded = label_encoder.fit_transform(y_train)\n",
    "y_test_encoded = label_encoder.transform(y_test)"
   ]
  },
  {
   "cell_type": "code",
   "execution_count": 28,
   "id": "2175ee8d",
   "metadata": {
    "execution": {
     "iopub.execute_input": "2024-05-13T05:12:20.153760Z",
     "iopub.status.busy": "2024-05-13T05:12:20.152317Z",
     "iopub.status.idle": "2024-05-13T05:12:20.161134Z",
     "shell.execute_reply": "2024-05-13T05:12:20.159569Z"
    },
    "papermill": {
     "duration": 0.029715,
     "end_time": "2024-05-13T05:12:20.164402",
     "exception": false,
     "start_time": "2024-05-13T05:12:20.134687",
     "status": "completed"
    },
    "tags": []
   },
   "outputs": [],
   "source": [
    "import tensorflow as tf\n",
    "\n",
    "y_train_one_hot = tf.keras.utils.to_categorical(y_train_encoded)\n",
    "y_test_one_hot = tf.keras.utils.to_categorical(y_test_encoded)"
   ]
  },
  {
   "cell_type": "code",
   "execution_count": 29,
   "id": "4611d1dd",
   "metadata": {
    "execution": {
     "iopub.execute_input": "2024-05-13T05:12:20.198718Z",
     "iopub.status.busy": "2024-05-13T05:12:20.197886Z",
     "iopub.status.idle": "2024-05-13T06:19:18.739510Z",
     "shell.execute_reply": "2024-05-13T06:19:18.738406Z"
    },
    "papermill": {
     "duration": 4018.561922,
     "end_time": "2024-05-13T06:19:18.742565",
     "exception": false,
     "start_time": "2024-05-13T05:12:20.180643",
     "status": "completed"
    },
    "tags": []
   },
   "outputs": [
    {
     "name": "stdout",
     "output_type": "stream",
     "text": [
      "Epoch 1/15\n",
      "\u001b[1m967/967\u001b[0m \u001b[32m━━━━━━━━━━━━━━━━━━━━\u001b[0m\u001b[37m\u001b[0m \u001b[1m242s\u001b[0m 245ms/step - accuracy: 0.6811 - loss: 0.5400 - val_accuracy: 0.9670 - val_loss: 0.1722\n",
      "Epoch 2/15\n",
      "\u001b[1m967/967\u001b[0m \u001b[32m━━━━━━━━━━━━━━━━━━━━\u001b[0m\u001b[37m\u001b[0m \u001b[1m238s\u001b[0m 246ms/step - accuracy: 0.9744 - loss: 0.0850 - val_accuracy: 0.9766 - val_loss: 0.0775\n",
      "Epoch 3/15\n",
      "\u001b[1m967/967\u001b[0m \u001b[32m━━━━━━━━━━━━━━━━━━━━\u001b[0m\u001b[37m\u001b[0m \u001b[1m259s\u001b[0m 243ms/step - accuracy: 0.9904 - loss: 0.0376 - val_accuracy: 0.9781 - val_loss: 0.0799\n",
      "Epoch 4/15\n",
      "\u001b[1m967/967\u001b[0m \u001b[32m━━━━━━━━━━━━━━━━━━━━\u001b[0m\u001b[37m\u001b[0m \u001b[1m259s\u001b[0m 239ms/step - accuracy: 0.9936 - loss: 0.0252 - val_accuracy: 0.9777 - val_loss: 0.0652\n",
      "Epoch 5/15\n",
      "\u001b[1m967/967\u001b[0m \u001b[32m━━━━━━━━━━━━━━━━━━━━\u001b[0m\u001b[37m\u001b[0m \u001b[1m259s\u001b[0m 236ms/step - accuracy: 0.9958 - loss: 0.0154 - val_accuracy: 0.9792 - val_loss: 0.0590\n",
      "Epoch 6/15\n",
      "\u001b[1m967/967\u001b[0m \u001b[32m━━━━━━━━━━━━━━━━━━━━\u001b[0m\u001b[37m\u001b[0m \u001b[1m249s\u001b[0m 257ms/step - accuracy: 0.9964 - loss: 0.0116 - val_accuracy: 0.9748 - val_loss: 0.0825\n",
      "Epoch 7/15\n",
      "\u001b[1m967/967\u001b[0m \u001b[32m━━━━━━━━━━━━━━━━━━━━\u001b[0m\u001b[37m\u001b[0m \u001b[1m246s\u001b[0m 240ms/step - accuracy: 0.9981 - loss: 0.0082 - val_accuracy: 0.9807 - val_loss: 0.0647\n",
      "Epoch 8/15\n",
      "\u001b[1m967/967\u001b[0m \u001b[32m━━━━━━━━━━━━━━━━━━━━\u001b[0m\u001b[37m\u001b[0m \u001b[1m240s\u001b[0m 248ms/step - accuracy: 0.9986 - loss: 0.0067 - val_accuracy: 0.9789 - val_loss: 0.0658\n",
      "Epoch 9/15\n",
      "\u001b[1m967/967\u001b[0m \u001b[32m━━━━━━━━━━━━━━━━━━━━\u001b[0m\u001b[37m\u001b[0m \u001b[1m271s\u001b[0m 280ms/step - accuracy: 0.9985 - loss: 0.0053 - val_accuracy: 0.9785 - val_loss: 0.0663\n",
      "Epoch 10/15\n",
      "\u001b[1m967/967\u001b[0m \u001b[32m━━━━━━━━━━━━━━━━━━━━\u001b[0m\u001b[37m\u001b[0m \u001b[1m245s\u001b[0m 254ms/step - accuracy: 0.9989 - loss: 0.0052 - val_accuracy: 0.9767 - val_loss: 0.0651\n",
      "Epoch 11/15\n",
      "\u001b[1m967/967\u001b[0m \u001b[32m━━━━━━━━━━━━━━━━━━━━\u001b[0m\u001b[37m\u001b[0m \u001b[1m247s\u001b[0m 238ms/step - accuracy: 0.9990 - loss: 0.0032 - val_accuracy: 0.9797 - val_loss: 0.0604\n",
      "Epoch 12/15\n",
      "\u001b[1m967/967\u001b[0m \u001b[32m━━━━━━━━━━━━━━━━━━━━\u001b[0m\u001b[37m\u001b[0m \u001b[1m265s\u001b[0m 242ms/step - accuracy: 0.9994 - loss: 0.0020 - val_accuracy: 0.9797 - val_loss: 0.0681\n",
      "Epoch 13/15\n",
      "\u001b[1m967/967\u001b[0m \u001b[32m━━━━━━━━━━━━━━━━━━━━\u001b[0m\u001b[37m\u001b[0m \u001b[1m230s\u001b[0m 238ms/step - accuracy: 0.9989 - loss: 0.0040 - val_accuracy: 0.9794 - val_loss: 0.0632\n",
      "Epoch 14/15\n",
      "\u001b[1m967/967\u001b[0m \u001b[32m━━━━━━━━━━━━━━━━━━━━\u001b[0m\u001b[37m\u001b[0m \u001b[1m261s\u001b[0m 237ms/step - accuracy: 0.9997 - loss: 0.0012 - val_accuracy: 0.9802 - val_loss: 0.0642\n",
      "Epoch 15/15\n",
      "\u001b[1m967/967\u001b[0m \u001b[32m━━━━━━━━━━━━━━━━━━━━\u001b[0m\u001b[37m\u001b[0m \u001b[1m263s\u001b[0m 238ms/step - accuracy: 0.9996 - loss: 0.0013 - val_accuracy: 0.9799 - val_loss: 0.0714\n"
     ]
    }
   ],
   "source": [
    "history = model.fit(X_train, y_train_one_hot, epochs=15, validation_data=(X_test, y_test_one_hot))"
   ]
  },
  {
   "cell_type": "code",
   "execution_count": 30,
   "id": "75058dba",
   "metadata": {
    "execution": {
     "iopub.execute_input": "2024-05-13T06:19:21.680864Z",
     "iopub.status.busy": "2024-05-13T06:19:21.680465Z",
     "iopub.status.idle": "2024-05-13T06:19:22.389444Z",
     "shell.execute_reply": "2024-05-13T06:19:22.388213Z"
    },
    "papermill": {
     "duration": 2.221093,
     "end_time": "2024-05-13T06:19:22.392111",
     "exception": false,
     "start_time": "2024-05-13T06:19:20.171018",
     "status": "completed"
    },
    "tags": []
   },
   "outputs": [
    {
     "data": {
      "image/png": "[encoded data removed]",
      "text/plain": [
       "<Figure size 640x480 with 1 Axes>"
      ]
     },
     "metadata": {},
     "output_type": "display_data"
    },
    {
     "data": {
      "image/png": "[encoded data removed]",
      "text/plain": [
       "<Figure size 640x480 with 1 Axes>"
      ]
     },
     "metadata": {},
     "output_type": "display_data"
    }
   ],
   "source": [
    "import matplotlib.pyplot as plt\n",
    "\n",
    "# Plot training & validation accuracy values\n",
    "plt.plot(history.history['accuracy'])\n",
    "plt.plot(history.history['val_accuracy'])\n",
    "plt.title('Model accuracy')\n",
    "plt.xlabel('Epoch')\n",
    "plt.ylabel('Accuracy')\n",
    "plt.legend(['Train', 'Test'], loc='upper left')\n",
    "plt.show()\n",
    "\n",
    "# Plot training & validation loss values\n",
    "plt.plot(history.history['loss'])\n",
    "plt.plot(history.history['val_loss'])\n",
    "plt.title('Model loss')\n",
    "plt.xlabel('Epoch')\n",
    "plt.ylabel('Loss')\n",
    "plt.legend(['Train', 'Test'], loc='upper left')\n",
    "plt.show()"
   ]
  },
  {
   "cell_type": "code",
   "execution_count": null,
   "id": "b2ba6270",
   "metadata": {},
   "outputs": [],
   "source": []
  }
 ],
 "metadata": {
  "kaggle": {
   "accelerator": "none",
   "dataSources": [
    {
     "datasetId": 4831777,
     "sourceId": 8165591,
     "sourceType": "datasetVersion"
    }
   ],
   "dockerImageVersionId": 30698,
   "isGpuEnabled": false,
   "isInternetEnabled": true,
   "language": "python",
   "sourceType": "notebook"
  },
  "kernelspec": {
   "display_name": "Python 3 (ipykernel)",
   "language": "python",
   "name": "python3"
  },
  "language_info": {
   "codemirror_mode": {
    "name": "ipython",
    "version": 3
   },
   "file_extension": ".py",
   "mimetype": "text/x-python",
   "name": "python",
   "nbconvert_exporter": "python",
   "pygments_lexer": "ipython3",
   "version": "3.9.13"
  },
  "papermill": {
   "default_parameters": {},
   "duration": 4372.987656,
   "end_time": "2024-05-13T06:19:26.747048",
   "environment_variables": {},
   "exception": null,
   "input_path": "__notebook__.ipynb",
   "output_path": "__notebook__.ipynb",
   "parameters": {},
   "start_time": "2024-05-13T05:06:33.759392",
   "version": "2.5.0"
  }
 },
 "nbformat": 4,
 "nbformat_minor": 5
}
