{
 "cells": [
  {
   "cell_type": "code",
   "execution_count": 7,
   "id": "e7154205",
   "metadata": {},
   "outputs": [],
   "source": [
    "import pandas as pd\n",
    "import numpy as np\n",
    "from sklearn.model_selection import train_test_split\n",
    "from sklearn.pipeline import Pipeline\n",
    "from sklearn.impute import SimpleImputer\n",
    "from sklearn.preprocessing import StandardScaler,OneHotEncoder\n",
    "from sklearn.compose import ColumnTransformer\n",
    "from keras.models import Sequential\n",
    "import keras\n",
    "from keras.layers import Dense, InputLayer\n"
   ]
  },
  {
   "cell_type": "code",
   "execution_count": 1,
   "id": "5d3baf23",
   "metadata": {},
   "outputs": [],
   "source": [
    "#pip install tensorflow==2.12.0"
   ]
  },
  {
   "cell_type": "code",
   "execution_count": 8,
   "id": "aa7d5bdc",
   "metadata": {},
   "outputs": [],
   "source": [
    "data=pd.read_csv(r\"C:\\Users\\khang\\Elite 14 M-L\\Projects\\IPL-Data-set\\final_ipl_data1.csv\")"
   ]
  },
  {
   "cell_type": "code",
   "execution_count": 9,
   "id": "dd453de6",
   "metadata": {},
   "outputs": [
    {
     "data": {
      "text/html": [
       "<div>\n",
       "<style scoped>\n",
       "    .dataframe tbody tr th:only-of-type {\n",
       "        vertical-align: middle;\n",
       "    }\n",
       "\n",
       "    .dataframe tbody tr th {\n",
       "        vertical-align: top;\n",
       "    }\n",
       "\n",
       "    .dataframe thead th {\n",
       "        text-align: right;\n",
       "    }\n",
       "</style>\n",
       "<table border=\"1\" class=\"dataframe\">\n",
       "  <thead>\n",
       "    <tr style=\"text-align: right;\">\n",
       "      <th></th>\n",
       "      <th>BattingTeam</th>\n",
       "      <th>BowlingTeam</th>\n",
       "      <th>runs_left</th>\n",
       "      <th>balls_left</th>\n",
       "      <th>wickets_remaining</th>\n",
       "      <th>target</th>\n",
       "      <th>crr</th>\n",
       "      <th>rrr</th>\n",
       "      <th>results</th>\n",
       "    </tr>\n",
       "  </thead>\n",
       "  <tbody>\n",
       "    <tr>\n",
       "      <th>0</th>\n",
       "      <td>Gujarat Titans</td>\n",
       "      <td>Rajasthan Royals</td>\n",
       "      <td>131.0</td>\n",
       "      <td>119</td>\n",
       "      <td>10</td>\n",
       "      <td>131.0</td>\n",
       "      <td>0.00</td>\n",
       "      <td>6.61</td>\n",
       "      <td>1</td>\n",
       "    </tr>\n",
       "    <tr>\n",
       "      <th>1</th>\n",
       "      <td>Gujarat Titans</td>\n",
       "      <td>Rajasthan Royals</td>\n",
       "      <td>131.0</td>\n",
       "      <td>118</td>\n",
       "      <td>10</td>\n",
       "      <td>131.0</td>\n",
       "      <td>0.00</td>\n",
       "      <td>6.66</td>\n",
       "      <td>1</td>\n",
       "    </tr>\n",
       "    <tr>\n",
       "      <th>2</th>\n",
       "      <td>Gujarat Titans</td>\n",
       "      <td>Rajasthan Royals</td>\n",
       "      <td>130.0</td>\n",
       "      <td>117</td>\n",
       "      <td>10</td>\n",
       "      <td>131.0</td>\n",
       "      <td>2.00</td>\n",
       "      <td>6.67</td>\n",
       "      <td>1</td>\n",
       "    </tr>\n",
       "    <tr>\n",
       "      <th>3</th>\n",
       "      <td>Gujarat Titans</td>\n",
       "      <td>Rajasthan Royals</td>\n",
       "      <td>130.0</td>\n",
       "      <td>116</td>\n",
       "      <td>10</td>\n",
       "      <td>131.0</td>\n",
       "      <td>1.50</td>\n",
       "      <td>6.72</td>\n",
       "      <td>1</td>\n",
       "    </tr>\n",
       "    <tr>\n",
       "      <th>4</th>\n",
       "      <td>Gujarat Titans</td>\n",
       "      <td>Rajasthan Royals</td>\n",
       "      <td>130.0</td>\n",
       "      <td>115</td>\n",
       "      <td>10</td>\n",
       "      <td>131.0</td>\n",
       "      <td>1.20</td>\n",
       "      <td>6.78</td>\n",
       "      <td>1</td>\n",
       "    </tr>\n",
       "    <tr>\n",
       "      <th>...</th>\n",
       "      <td>...</td>\n",
       "      <td>...</td>\n",
       "      <td>...</td>\n",
       "      <td>...</td>\n",
       "      <td>...</td>\n",
       "      <td>...</td>\n",
       "      <td>...</td>\n",
       "      <td>...</td>\n",
       "      <td>...</td>\n",
       "    </tr>\n",
       "    <tr>\n",
       "      <th>85934</th>\n",
       "      <td>Royal Challengers Bangalore</td>\n",
       "      <td>Kolkata Knight Riders</td>\n",
       "      <td>143.0</td>\n",
       "      <td>31</td>\n",
       "      <td>1</td>\n",
       "      <td>223.0</td>\n",
       "      <td>5.39</td>\n",
       "      <td>27.68</td>\n",
       "      <td>0</td>\n",
       "    </tr>\n",
       "    <tr>\n",
       "      <th>85935</th>\n",
       "      <td>Royal Challengers Bangalore</td>\n",
       "      <td>Kolkata Knight Riders</td>\n",
       "      <td>142.0</td>\n",
       "      <td>30</td>\n",
       "      <td>1</td>\n",
       "      <td>223.0</td>\n",
       "      <td>5.40</td>\n",
       "      <td>28.40</td>\n",
       "      <td>0</td>\n",
       "    </tr>\n",
       "    <tr>\n",
       "      <th>85936</th>\n",
       "      <td>Royal Challengers Bangalore</td>\n",
       "      <td>Kolkata Knight Riders</td>\n",
       "      <td>142.0</td>\n",
       "      <td>29</td>\n",
       "      <td>1</td>\n",
       "      <td>223.0</td>\n",
       "      <td>5.34</td>\n",
       "      <td>29.38</td>\n",
       "      <td>0</td>\n",
       "    </tr>\n",
       "    <tr>\n",
       "      <th>85937</th>\n",
       "      <td>Royal Challengers Bangalore</td>\n",
       "      <td>Kolkata Knight Riders</td>\n",
       "      <td>141.0</td>\n",
       "      <td>29</td>\n",
       "      <td>1</td>\n",
       "      <td>223.0</td>\n",
       "      <td>5.41</td>\n",
       "      <td>29.17</td>\n",
       "      <td>0</td>\n",
       "    </tr>\n",
       "    <tr>\n",
       "      <th>85938</th>\n",
       "      <td>Royal Challengers Bangalore</td>\n",
       "      <td>Kolkata Knight Riders</td>\n",
       "      <td>141.0</td>\n",
       "      <td>28</td>\n",
       "      <td>0</td>\n",
       "      <td>223.0</td>\n",
       "      <td>5.35</td>\n",
       "      <td>30.21</td>\n",
       "      <td>0</td>\n",
       "    </tr>\n",
       "  </tbody>\n",
       "</table>\n",
       "<p>85939 rows × 9 columns</p>\n",
       "</div>"
      ],
      "text/plain": [
       "                       BattingTeam            BowlingTeam  runs_left  \\\n",
       "0                   Gujarat Titans       Rajasthan Royals      131.0   \n",
       "1                   Gujarat Titans       Rajasthan Royals      131.0   \n",
       "2                   Gujarat Titans       Rajasthan Royals      130.0   \n",
       "3                   Gujarat Titans       Rajasthan Royals      130.0   \n",
       "4                   Gujarat Titans       Rajasthan Royals      130.0   \n",
       "...                            ...                    ...        ...   \n",
       "85934  Royal Challengers Bangalore  Kolkata Knight Riders      143.0   \n",
       "85935  Royal Challengers Bangalore  Kolkata Knight Riders      142.0   \n",
       "85936  Royal Challengers Bangalore  Kolkata Knight Riders      142.0   \n",
       "85937  Royal Challengers Bangalore  Kolkata Knight Riders      141.0   \n",
       "85938  Royal Challengers Bangalore  Kolkata Knight Riders      141.0   \n",
       "\n",
       "       balls_left  wickets_remaining  target   crr    rrr  results  \n",
       "0             119                 10   131.0  0.00   6.61        1  \n",
       "1             118                 10   131.0  0.00   6.66        1  \n",
       "2             117                 10   131.0  2.00   6.67        1  \n",
       "3             116                 10   131.0  1.50   6.72        1  \n",
       "4             115                 10   131.0  1.20   6.78        1  \n",
       "...           ...                ...     ...   ...    ...      ...  \n",
       "85934          31                  1   223.0  5.39  27.68        0  \n",
       "85935          30                  1   223.0  5.40  28.40        0  \n",
       "85936          29                  1   223.0  5.34  29.38        0  \n",
       "85937          29                  1   223.0  5.41  29.17        0  \n",
       "85938          28                  0   223.0  5.35  30.21        0  \n",
       "\n",
       "[85939 rows x 9 columns]"
      ]
     },
     "execution_count": 9,
     "metadata": {},
     "output_type": "execute_result"
    }
   ],
   "source": [
    "data"
   ]
  },
  {
   "cell_type": "code",
   "execution_count": 10,
   "id": "c046b528",
   "metadata": {},
   "outputs": [
    {
     "name": "stdout",
     "output_type": "stream",
     "text": [
      "<class 'pandas.core.frame.DataFrame'>\n",
      "RangeIndex: 85939 entries, 0 to 85938\n",
      "Data columns (total 9 columns):\n",
      " #   Column             Non-Null Count  Dtype  \n",
      "---  ------             --------------  -----  \n",
      " 0   BattingTeam        85939 non-null  object \n",
      " 1   BowlingTeam        85939 non-null  object \n",
      " 2   runs_left          85939 non-null  float64\n",
      " 3   balls_left         85939 non-null  int64  \n",
      " 4   wickets_remaining  85939 non-null  int64  \n",
      " 5   target             85939 non-null  float64\n",
      " 6   crr                85939 non-null  float64\n",
      " 7   rrr                85939 non-null  float64\n",
      " 8   results            85939 non-null  int64  \n",
      "dtypes: float64(4), int64(3), object(2)\n",
      "memory usage: 5.9+ MB\n"
     ]
    }
   ],
   "source": [
    "data.info()"
   ]
  },
  {
   "cell_type": "code",
   "execution_count": 11,
   "id": "bc2af6c3",
   "metadata": {},
   "outputs": [],
   "source": [
    "#Extracting feature variables and class variables\n",
    "fv=data.iloc[:,:-1]\n",
    "cv=data.iloc[:,-1]"
   ]
  },
  {
   "cell_type": "code",
   "execution_count": 12,
   "id": "e517dca1",
   "metadata": {},
   "outputs": [],
   "source": [
    "# Splitting tha data to train and test splits\n",
    "x_train,x_test,y_train,y_test = train_test_split(fv,cv,test_size=0.2, random_state=42, stratify=cv)\n"
   ]
  },
  {
   "cell_type": "code",
   "execution_count": 13,
   "id": "0218bd8b",
   "metadata": {},
   "outputs": [],
   "source": [
    "#Dividing te dataset based on the type if the variables\n",
    "numerical_data=x_train.select_dtypes(include=[\"int64\",\"float64\"])\n",
    "cat_data=x_train.select_dtypes(include=[\"object\"])"
   ]
  },
  {
   "cell_type": "code",
   "execution_count": 14,
   "id": "9f584618",
   "metadata": {},
   "outputs": [],
   "source": [
    "#Pipeline to impute and scale numerical columns\n",
    "num_p=Pipeline([(\"imputing_n\",SimpleImputer()),(\"scaling\",StandardScaler())])\n",
    "#Pipeline to impute and Encode nominal columns\n",
    "cp=Pipeline([(\"imputing_c\",SimpleImputer(strategy=\"most_frequent\")),(\"Encoder\",OneHotEncoder())])"
   ]
  },
  {
   "cell_type": "code",
   "execution_count": 15,
   "id": "f9d600ae",
   "metadata": {},
   "outputs": [],
   "source": [
    "#Pipeline for column transformation to apply for different types of data\n",
    "ct=ColumnTransformer([(\"nominal\",cp,cat_data.columns),(\"numerical\",num_p,numerical_data.columns)],remainder=\"passthrough\")"
   ]
  },
  {
   "cell_type": "code",
   "execution_count": 16,
   "id": "a018a758",
   "metadata": {},
   "outputs": [
    {
     "data": {
      "text/html": [
       "<style>#sk-container-id-1 {color: black;background-color: white;}#sk-container-id-1 pre{padding: 0;}#sk-container-id-1 div.sk-toggleable {background-color: white;}#sk-container-id-1 label.sk-toggleable__label {cursor: pointer;display: block;width: 100%;margin-bottom: 0;padding: 0.3em;box-sizing: border-box;text-align: center;}#sk-container-id-1 label.sk-toggleable__label-arrow:before {content: \"▸\";float: left;margin-right: 0.25em;color: #696969;}#sk-container-id-1 label.sk-toggleable__label-arrow:hover:before {color: black;}#sk-container-id-1 div.sk-estimator:hover label.sk-toggleable__label-arrow:before {color: black;}#sk-container-id-1 div.sk-toggleable__content {max-height: 0;max-width: 0;overflow: hidden;text-align: left;background-color: #f0f8ff;}#sk-container-id-1 div.sk-toggleable__content pre {margin: 0.2em;color: black;border-radius: 0.25em;background-color: #f0f8ff;}#sk-container-id-1 input.sk-toggleable__control:checked~div.sk-toggleable__content {max-height: 200px;max-width: 100%;overflow: auto;}#sk-container-id-1 input.sk-toggleable__control:checked~label.sk-toggleable__label-arrow:before {content: \"▾\";}#sk-container-id-1 div.sk-estimator input.sk-toggleable__control:checked~label.sk-toggleable__label {background-color: #d4ebff;}#sk-container-id-1 div.sk-label input.sk-toggleable__control:checked~label.sk-toggleable__label {background-color: #d4ebff;}#sk-container-id-1 input.sk-hidden--visually {border: 0;clip: rect(1px 1px 1px 1px);clip: rect(1px, 1px, 1px, 1px);height: 1px;margin: -1px;overflow: hidden;padding: 0;position: absolute;width: 1px;}#sk-container-id-1 div.sk-estimator {font-family: monospace;background-color: #f0f8ff;border: 1px dotted black;border-radius: 0.25em;box-sizing: border-box;margin-bottom: 0.5em;}#sk-container-id-1 div.sk-estimator:hover {background-color: #d4ebff;}#sk-container-id-1 div.sk-parallel-item::after {content: \"\";width: 100%;border-bottom: 1px solid gray;flex-grow: 1;}#sk-container-id-1 div.sk-label:hover label.sk-toggleable__label {background-color: #d4ebff;}#sk-container-id-1 div.sk-serial::before {content: \"\";position: absolute;border-left: 1px solid gray;box-sizing: border-box;top: 0;bottom: 0;left: 50%;z-index: 0;}#sk-container-id-1 div.sk-serial {display: flex;flex-direction: column;align-items: center;background-color: white;padding-right: 0.2em;padding-left: 0.2em;position: relative;}#sk-container-id-1 div.sk-item {position: relative;z-index: 1;}#sk-container-id-1 div.sk-parallel {display: flex;align-items: stretch;justify-content: center;background-color: white;position: relative;}#sk-container-id-1 div.sk-item::before, #sk-container-id-1 div.sk-parallel-item::before {content: \"\";position: absolute;border-left: 1px solid gray;box-sizing: border-box;top: 0;bottom: 0;left: 50%;z-index: -1;}#sk-container-id-1 div.sk-parallel-item {display: flex;flex-direction: column;z-index: 1;position: relative;background-color: white;}#sk-container-id-1 div.sk-parallel-item:first-child::after {align-self: flex-end;width: 50%;}#sk-container-id-1 div.sk-parallel-item:last-child::after {align-self: flex-start;width: 50%;}#sk-container-id-1 div.sk-parallel-item:only-child::after {width: 0;}#sk-container-id-1 div.sk-dashed-wrapped {border: 1px dashed gray;margin: 0 0.4em 0.5em 0.4em;box-sizing: border-box;padding-bottom: 0.4em;background-color: white;}#sk-container-id-1 div.sk-label label {font-family: monospace;font-weight: bold;display: inline-block;line-height: 1.2em;}#sk-container-id-1 div.sk-label-container {text-align: center;}#sk-container-id-1 div.sk-container {/* jupyter's `normalize.less` sets `[hidden] { display: none; }` but bootstrap.min.css set `[hidden] { display: none !important; }` so we also need the `!important` here to be able to override the default hidden behavior on the sphinx rendered scikit-learn.org. See: https://github.com/scikit-learn/scikit-learn/issues/21755 */display: inline-block !important;position: relative;}#sk-container-id-1 div.sk-text-repr-fallback {display: none;}</style><div id=\"sk-container-id-1\" class=\"sk-top-container\"><div class=\"sk-text-repr-fallback\"><pre>ColumnTransformer(remainder=&#x27;passthrough&#x27;,\n",
       "                  transformers=[(&#x27;nominal&#x27;,\n",
       "                                 Pipeline(steps=[(&#x27;imputing_c&#x27;,\n",
       "                                                  SimpleImputer(strategy=&#x27;most_frequent&#x27;)),\n",
       "                                                 (&#x27;Encoder&#x27;, OneHotEncoder())]),\n",
       "                                 Index([&#x27;BattingTeam&#x27;, &#x27;BowlingTeam&#x27;], dtype=&#x27;object&#x27;)),\n",
       "                                (&#x27;numerical&#x27;,\n",
       "                                 Pipeline(steps=[(&#x27;imputing_n&#x27;,\n",
       "                                                  SimpleImputer()),\n",
       "                                                 (&#x27;scaling&#x27;,\n",
       "                                                  StandardScaler())]),\n",
       "                                 Index([&#x27;runs_left&#x27;, &#x27;balls_left&#x27;, &#x27;wickets_remaining&#x27;, &#x27;target&#x27;, &#x27;crr&#x27;, &#x27;rrr&#x27;], dtype=&#x27;object&#x27;))])</pre><b>In a Jupyter environment, please rerun this cell to show the HTML representation or trust the notebook. <br />On GitHub, the HTML representation is unable to render, please try loading this page with nbviewer.org.</b></div><div class=\"sk-container\" hidden><div class=\"sk-item sk-dashed-wrapped\"><div class=\"sk-label-container\"><div class=\"sk-label sk-toggleable\"><input class=\"sk-toggleable__control sk-hidden--visually\" id=\"sk-estimator-id-1\" type=\"checkbox\" ><label for=\"sk-estimator-id-1\" class=\"sk-toggleable__label sk-toggleable__label-arrow\">ColumnTransformer</label><div class=\"sk-toggleable__content\"><pre>ColumnTransformer(remainder=&#x27;passthrough&#x27;,\n",
       "                  transformers=[(&#x27;nominal&#x27;,\n",
       "                                 Pipeline(steps=[(&#x27;imputing_c&#x27;,\n",
       "                                                  SimpleImputer(strategy=&#x27;most_frequent&#x27;)),\n",
       "                                                 (&#x27;Encoder&#x27;, OneHotEncoder())]),\n",
       "                                 Index([&#x27;BattingTeam&#x27;, &#x27;BowlingTeam&#x27;], dtype=&#x27;object&#x27;)),\n",
       "                                (&#x27;numerical&#x27;,\n",
       "                                 Pipeline(steps=[(&#x27;imputing_n&#x27;,\n",
       "                                                  SimpleImputer()),\n",
       "                                                 (&#x27;scaling&#x27;,\n",
       "                                                  StandardScaler())]),\n",
       "                                 Index([&#x27;runs_left&#x27;, &#x27;balls_left&#x27;, &#x27;wickets_remaining&#x27;, &#x27;target&#x27;, &#x27;crr&#x27;, &#x27;rrr&#x27;], dtype=&#x27;object&#x27;))])</pre></div></div></div><div class=\"sk-parallel\"><div class=\"sk-parallel-item\"><div class=\"sk-item\"><div class=\"sk-label-container\"><div class=\"sk-label sk-toggleable\"><input class=\"sk-toggleable__control sk-hidden--visually\" id=\"sk-estimator-id-2\" type=\"checkbox\" ><label for=\"sk-estimator-id-2\" class=\"sk-toggleable__label sk-toggleable__label-arrow\">nominal</label><div class=\"sk-toggleable__content\"><pre>Index([&#x27;BattingTeam&#x27;, &#x27;BowlingTeam&#x27;], dtype=&#x27;object&#x27;)</pre></div></div></div><div class=\"sk-serial\"><div class=\"sk-item\"><div class=\"sk-serial\"><div class=\"sk-item\"><div class=\"sk-estimator sk-toggleable\"><input class=\"sk-toggleable__control sk-hidden--visually\" id=\"sk-estimator-id-3\" type=\"checkbox\" ><label for=\"sk-estimator-id-3\" class=\"sk-toggleable__label sk-toggleable__label-arrow\">SimpleImputer</label><div class=\"sk-toggleable__content\"><pre>SimpleImputer(strategy=&#x27;most_frequent&#x27;)</pre></div></div></div><div class=\"sk-item\"><div class=\"sk-estimator sk-toggleable\"><input class=\"sk-toggleable__control sk-hidden--visually\" id=\"sk-estimator-id-4\" type=\"checkbox\" ><label for=\"sk-estimator-id-4\" class=\"sk-toggleable__label sk-toggleable__label-arrow\">OneHotEncoder</label><div class=\"sk-toggleable__content\"><pre>OneHotEncoder()</pre></div></div></div></div></div></div></div></div><div class=\"sk-parallel-item\"><div class=\"sk-item\"><div class=\"sk-label-container\"><div class=\"sk-label sk-toggleable\"><input class=\"sk-toggleable__control sk-hidden--visually\" id=\"sk-estimator-id-5\" type=\"checkbox\" ><label for=\"sk-estimator-id-5\" class=\"sk-toggleable__label sk-toggleable__label-arrow\">numerical</label><div class=\"sk-toggleable__content\"><pre>Index([&#x27;runs_left&#x27;, &#x27;balls_left&#x27;, &#x27;wickets_remaining&#x27;, &#x27;target&#x27;, &#x27;crr&#x27;, &#x27;rrr&#x27;], dtype=&#x27;object&#x27;)</pre></div></div></div><div class=\"sk-serial\"><div class=\"sk-item\"><div class=\"sk-serial\"><div class=\"sk-item\"><div class=\"sk-estimator sk-toggleable\"><input class=\"sk-toggleable__control sk-hidden--visually\" id=\"sk-estimator-id-6\" type=\"checkbox\" ><label for=\"sk-estimator-id-6\" class=\"sk-toggleable__label sk-toggleable__label-arrow\">SimpleImputer</label><div class=\"sk-toggleable__content\"><pre>SimpleImputer()</pre></div></div></div><div class=\"sk-item\"><div class=\"sk-estimator sk-toggleable\"><input class=\"sk-toggleable__control sk-hidden--visually\" id=\"sk-estimator-id-7\" type=\"checkbox\" ><label for=\"sk-estimator-id-7\" class=\"sk-toggleable__label sk-toggleable__label-arrow\">StandardScaler</label><div class=\"sk-toggleable__content\"><pre>StandardScaler()</pre></div></div></div></div></div></div></div></div><div class=\"sk-parallel-item\"><div class=\"sk-item\"><div class=\"sk-label-container\"><div class=\"sk-label sk-toggleable\"><input class=\"sk-toggleable__control sk-hidden--visually\" id=\"sk-estimator-id-8\" type=\"checkbox\" ><label for=\"sk-estimator-id-8\" class=\"sk-toggleable__label sk-toggleable__label-arrow\">remainder</label><div class=\"sk-toggleable__content\"><pre></pre></div></div></div><div class=\"sk-serial\"><div class=\"sk-item\"><div class=\"sk-estimator sk-toggleable\"><input class=\"sk-toggleable__control sk-hidden--visually\" id=\"sk-estimator-id-9\" type=\"checkbox\" ><label for=\"sk-estimator-id-9\" class=\"sk-toggleable__label sk-toggleable__label-arrow\">passthrough</label><div class=\"sk-toggleable__content\"><pre>passthrough</pre></div></div></div></div></div></div></div></div></div></div>"
      ],
      "text/plain": [
       "ColumnTransformer(remainder='passthrough',\n",
       "                  transformers=[('nominal',\n",
       "                                 Pipeline(steps=[('imputing_c',\n",
       "                                                  SimpleImputer(strategy='most_frequent')),\n",
       "                                                 ('Encoder', OneHotEncoder())]),\n",
       "                                 Index(['BattingTeam', 'BowlingTeam'], dtype='object')),\n",
       "                                ('numerical',\n",
       "                                 Pipeline(steps=[('imputing_n',\n",
       "                                                  SimpleImputer()),\n",
       "                                                 ('scaling',\n",
       "                                                  StandardScaler())]),\n",
       "                                 Index(['runs_left', 'balls_left', 'wickets_remaining', 'target', 'crr', 'rrr'], dtype='object'))])"
      ]
     },
     "execution_count": 16,
     "metadata": {},
     "output_type": "execute_result"
    }
   ],
   "source": [
    "ct"
   ]
  },
  {
   "cell_type": "code",
   "execution_count": 17,
   "id": "93bc5c04",
   "metadata": {},
   "outputs": [
    {
     "data": {
      "text/plain": [
       "(17188, 8)"
      ]
     },
     "execution_count": 17,
     "metadata": {},
     "output_type": "execute_result"
    }
   ],
   "source": [
    "x_test.shape"
   ]
  },
  {
   "cell_type": "code",
   "execution_count": 18,
   "id": "5d33ee5c",
   "metadata": {},
   "outputs": [],
   "source": [
    "x_train_pp=ct.fit_transform(x_train)\n",
    "x_test_pp=ct.transform(x_test)"
   ]
  },
  {
   "cell_type": "code",
   "execution_count": 19,
   "id": "56ab32ff",
   "metadata": {},
   "outputs": [
    {
     "name": "stdout",
     "output_type": "stream",
     "text": [
      "(68751, 24)\n",
      "(17188, 24)\n",
      "(68751,)\n",
      "(17188,)\n"
     ]
    }
   ],
   "source": [
    "print(x_train_pp.shape)\n",
    "print(x_test_pp.shape)\n",
    "print(y_train.shape)\n",
    "print(y_test.shape)"
   ]
  },
  {
   "cell_type": "code",
   "execution_count": 20,
   "id": "f3d40715",
   "metadata": {},
   "outputs": [],
   "source": [
    "from keras.utils import to_categorical\n",
    "\n",
    "# Assuming y_train is a 1D array containing class labels\n",
    "y_train_encoded = to_categorical(y_train,num_classes=2)\n",
    "\n",
    "# Assuming y_test is a 1D array containing class labels\n",
    "y_test_encoded = to_categorical(y_test,num_classes=2)"
   ]
  },
  {
   "cell_type": "code",
   "execution_count": 21,
   "id": "fa8ce19e",
   "metadata": {},
   "outputs": [],
   "source": [
    "from keras.models import Model\n",
    "from keras.layers import Input, Dense\n",
    "\n",
    "def create_ann_model(input_shape):\n",
    "    # Input layer\n",
    "    inputs = Input(shape=(input_shape,))\n",
    "    \n",
    "    # Dense hidden layers\n",
    "    dense1 = Dense(64, activation='relu')(inputs)\n",
    "    dense2 = Dense(32, activation='relu')(dense1)\n",
    "    \n",
    "    # Output layers for batting team and bowling team\n",
    "    output_batting = Dense(1, activation='sigmoid', name='output_batting')(dense2)\n",
    "    output_bowling = Dense(1, activation='sigmoid', name='output_bowling')(dense2)\n",
    "    \n",
    "    # Define the model with multiple outputs\n",
    "    model = Model(inputs=inputs, outputs=[output_batting, output_bowling])\n",
    "    \n",
    "    # Compile the model\n",
    "    model.compile(optimizer='adam', loss='binary_crossentropy', metrics=['accuracy'])\n",
    "    \n",
    "    return model\n",
    "\n",
    "# Example usage:\n",
    "input_shape = x_train_pp.shape[1]\n",
    "ann_model = create_ann_model(input_shape)\n"
   ]
  },
  {
   "cell_type": "code",
   "execution_count": 22,
   "id": "15c552ac",
   "metadata": {},
   "outputs": [
    {
     "name": "stderr",
     "output_type": "stream",
     "text": [
      "C:\\Users\\khang\\anaconda3\\New folder\\lib\\site-packages\\keras\\src\\layers\\core\\input_layer.py:25: UserWarning: Argument `input_shape` is deprecated. Use `shape` instead.\n",
      "  warnings.warn(\n"
     ]
    }
   ],
   "source": [
    "input_shape = x_train_pp.shape[1]\n",
    "model=Sequential()\n",
    "model.add(InputLayer(input_shape=(input_shape,)))\n",
    "model.add(Dense(5,activation=\"relu\",use_bias=True))\n",
    "model.add(Dense(4,activation=\"relu\",use_bias=True))\n",
    "model.add(Dense(2,activation=\"softmax\",use_bias=True))"
   ]
  },
  {
   "cell_type": "code",
   "execution_count": 23,
   "id": "4a327045",
   "metadata": {},
   "outputs": [],
   "source": [
    "model.compile(optimizer='adam',loss=\"binary_crossentropy\",metrics=[\"accuracy\"])"
   ]
  },
  {
   "cell_type": "code",
   "execution_count": null,
   "id": "c15ac1af",
   "metadata": {},
   "outputs": [],
   "source": [
    "\"C:\\Users\\khang\\Elite 14 M-L\\Projects\\IPL-Data-set\\final_ipl_data1.csv\""
   ]
  },
  {
   "cell_type": "code",
   "execution_count": 25,
   "id": "f54a0fcd",
   "metadata": {
    "scrolled": true
   },
   "outputs": [
    {
     "name": "stdout",
     "output_type": "stream",
     "text": [
      "Epoch 1/50\n",
      "\u001b[1m688/688\u001b[0m \u001b[32m━━━━━━━━━━━━━━━━━━━━\u001b[0m\u001b[37m\u001b[0m \u001b[1m1s\u001b[0m 1ms/step - accuracy: 0.8001 - loss: 0.4332 - val_accuracy: 0.8002 - val_loss: 0.4172\n",
      "Epoch 2/50\n",
      "\u001b[1m688/688\u001b[0m \u001b[32m━━━━━━━━━━━━━━━━━━━━\u001b[0m\u001b[37m\u001b[0m \u001b[1m1s\u001b[0m 1ms/step - accuracy: 0.8021 - loss: 0.4134 - val_accuracy: 0.8028 - val_loss: 0.4111\n",
      "Epoch 3/50\n",
      "\u001b[1m688/688\u001b[0m \u001b[32m━━━━━━━━━━━━━━━━━━━━\u001b[0m\u001b[37m\u001b[0m \u001b[1m1s\u001b[0m 1ms/step - accuracy: 0.8067 - loss: 0.4044 - val_accuracy: 0.8038 - val_loss: 0.4068\n",
      "Epoch 4/50\n",
      "\u001b[1m688/688\u001b[0m \u001b[32m━━━━━━━━━━━━━━━━━━━━\u001b[0m\u001b[37m\u001b[0m \u001b[1m1s\u001b[0m 1ms/step - accuracy: 0.8073 - loss: 0.4007 - val_accuracy: 0.8063 - val_loss: 0.4031\n",
      "Epoch 5/50\n",
      "\u001b[1m688/688\u001b[0m \u001b[32m━━━━━━━━━━━━━━━━━━━━\u001b[0m\u001b[37m\u001b[0m \u001b[1m1s\u001b[0m 1ms/step - accuracy: 0.8078 - loss: 0.3962 - val_accuracy: 0.8085 - val_loss: 0.3990\n",
      "Epoch 6/50\n",
      "\u001b[1m688/688\u001b[0m \u001b[32m━━━━━━━━━━━━━━━━━━━━\u001b[0m\u001b[37m\u001b[0m \u001b[1m1s\u001b[0m 1ms/step - accuracy: 0.8113 - loss: 0.3941 - val_accuracy: 0.8114 - val_loss: 0.3957\n",
      "Epoch 7/50\n",
      "\u001b[1m688/688\u001b[0m \u001b[32m━━━━━━━━━━━━━━━━━━━━\u001b[0m\u001b[37m\u001b[0m \u001b[1m1s\u001b[0m 1ms/step - accuracy: 0.8161 - loss: 0.3868 - val_accuracy: 0.8138 - val_loss: 0.3927\n",
      "Epoch 8/50\n",
      "\u001b[1m688/688\u001b[0m \u001b[32m━━━━━━━━━━━━━━━━━━━━\u001b[0m\u001b[37m\u001b[0m \u001b[1m1s\u001b[0m 965us/step - accuracy: 0.8150 - loss: 0.3847 - val_accuracy: 0.8134 - val_loss: 0.3913\n",
      "Epoch 9/50\n",
      "\u001b[1m688/688\u001b[0m \u001b[32m━━━━━━━━━━━━━━━━━━━━\u001b[0m\u001b[37m\u001b[0m \u001b[1m1s\u001b[0m 1ms/step - accuracy: 0.8173 - loss: 0.3839 - val_accuracy: 0.8147 - val_loss: 0.3897\n",
      "Epoch 10/50\n",
      "\u001b[1m688/688\u001b[0m \u001b[32m━━━━━━━━━━━━━━━━━━━━\u001b[0m\u001b[37m\u001b[0m \u001b[1m1s\u001b[0m 1ms/step - accuracy: 0.8191 - loss: 0.3808 - val_accuracy: 0.8152 - val_loss: 0.3872\n",
      "Epoch 11/50\n",
      "\u001b[1m688/688\u001b[0m \u001b[32m━━━━━━━━━━━━━━━━━━━━\u001b[0m\u001b[37m\u001b[0m \u001b[1m1s\u001b[0m 1ms/step - accuracy: 0.8164 - loss: 0.3830 - val_accuracy: 0.8159 - val_loss: 0.3856\n",
      "Epoch 12/50\n",
      "\u001b[1m688/688\u001b[0m \u001b[32m━━━━━━━━━━━━━━━━━━━━\u001b[0m\u001b[37m\u001b[0m \u001b[1m1s\u001b[0m 1ms/step - accuracy: 0.8183 - loss: 0.3776 - val_accuracy: 0.8167 - val_loss: 0.3849\n",
      "Epoch 13/50\n",
      "\u001b[1m688/688\u001b[0m \u001b[32m━━━━━━━━━━━━━━━━━━━━\u001b[0m\u001b[37m\u001b[0m \u001b[1m1s\u001b[0m 934us/step - accuracy: 0.8198 - loss: 0.3746 - val_accuracy: 0.8186 - val_loss: 0.3827\n",
      "Epoch 14/50\n",
      "\u001b[1m688/688\u001b[0m \u001b[32m━━━━━━━━━━━━━━━━━━━━\u001b[0m\u001b[37m\u001b[0m \u001b[1m1s\u001b[0m 1ms/step - accuracy: 0.8213 - loss: 0.3741 - val_accuracy: 0.8180 - val_loss: 0.3818\n",
      "Epoch 15/50\n",
      "\u001b[1m688/688\u001b[0m \u001b[32m━━━━━━━━━━━━━━━━━━━━\u001b[0m\u001b[37m\u001b[0m \u001b[1m1s\u001b[0m 1ms/step - accuracy: 0.8182 - loss: 0.3752 - val_accuracy: 0.8179 - val_loss: 0.3807\n",
      "Epoch 16/50\n",
      "\u001b[1m688/688\u001b[0m \u001b[32m━━━━━━━━━━━━━━━━━━━━\u001b[0m\u001b[37m\u001b[0m \u001b[1m1s\u001b[0m 990us/step - accuracy: 0.8181 - loss: 0.3770 - val_accuracy: 0.8189 - val_loss: 0.3794\n",
      "Epoch 17/50\n",
      "\u001b[1m688/688\u001b[0m \u001b[32m━━━━━━━━━━━━━━━━━━━━\u001b[0m\u001b[37m\u001b[0m \u001b[1m1s\u001b[0m 947us/step - accuracy: 0.8200 - loss: 0.3729 - val_accuracy: 0.8187 - val_loss: 0.3778\n",
      "Epoch 18/50\n",
      "\u001b[1m688/688\u001b[0m \u001b[32m━━━━━━━━━━━━━━━━━━━━\u001b[0m\u001b[37m\u001b[0m \u001b[1m1s\u001b[0m 1ms/step - accuracy: 0.8198 - loss: 0.3721 - val_accuracy: 0.8198 - val_loss: 0.3755\n",
      "Epoch 19/50\n",
      "\u001b[1m688/688\u001b[0m \u001b[32m━━━━━━━━━━━━━━━━━━━━\u001b[0m\u001b[37m\u001b[0m \u001b[1m1s\u001b[0m 955us/step - accuracy: 0.8234 - loss: 0.3653 - val_accuracy: 0.8199 - val_loss: 0.3733\n",
      "Epoch 20/50\n",
      "\u001b[1m688/688\u001b[0m \u001b[32m━━━━━━━━━━━━━━━━━━━━\u001b[0m\u001b[37m\u001b[0m \u001b[1m1s\u001b[0m 1ms/step - accuracy: 0.8252 - loss: 0.3644 - val_accuracy: 0.8202 - val_loss: 0.3727\n",
      "Epoch 21/50\n",
      "\u001b[1m688/688\u001b[0m \u001b[32m━━━━━━━━━━━━━━━━━━━━\u001b[0m\u001b[37m\u001b[0m \u001b[1m1s\u001b[0m 1ms/step - accuracy: 0.8257 - loss: 0.3647 - val_accuracy: 0.8227 - val_loss: 0.3688\n",
      "Epoch 22/50\n",
      "\u001b[1m688/688\u001b[0m \u001b[32m━━━━━━━━━━━━━━━━━━━━\u001b[0m\u001b[37m\u001b[0m \u001b[1m1s\u001b[0m 1ms/step - accuracy: 0.8250 - loss: 0.3619 - val_accuracy: 0.8228 - val_loss: 0.3661\n",
      "Epoch 23/50\n",
      "\u001b[1m688/688\u001b[0m \u001b[32m━━━━━━━━━━━━━━━━━━━━\u001b[0m\u001b[37m\u001b[0m \u001b[1m1s\u001b[0m 1ms/step - accuracy: 0.8239 - loss: 0.3608 - val_accuracy: 0.8235 - val_loss: 0.3640\n",
      "Epoch 24/50\n",
      "\u001b[1m688/688\u001b[0m \u001b[32m━━━━━━━━━━━━━━━━━━━━\u001b[0m\u001b[37m\u001b[0m \u001b[1m1s\u001b[0m 1ms/step - accuracy: 0.8247 - loss: 0.3574 - val_accuracy: 0.8248 - val_loss: 0.3621\n",
      "Epoch 25/50\n",
      "\u001b[1m688/688\u001b[0m \u001b[32m━━━━━━━━━━━━━━━━━━━━\u001b[0m\u001b[37m\u001b[0m \u001b[1m1s\u001b[0m 1ms/step - accuracy: 0.8258 - loss: 0.3573 - val_accuracy: 0.8247 - val_loss: 0.3595\n",
      "Epoch 26/50\n",
      "\u001b[1m688/688\u001b[0m \u001b[32m━━━━━━━━━━━━━━━━━━━━\u001b[0m\u001b[37m\u001b[0m \u001b[1m1s\u001b[0m 1ms/step - accuracy: 0.8272 - loss: 0.3523 - val_accuracy: 0.8253 - val_loss: 0.3573\n",
      "Epoch 27/50\n",
      "\u001b[1m688/688\u001b[0m \u001b[32m━━━━━━━━━━━━━━━━━━━━\u001b[0m\u001b[37m\u001b[0m \u001b[1m1s\u001b[0m 1ms/step - accuracy: 0.8281 - loss: 0.3521 - val_accuracy: 0.8241 - val_loss: 0.3555\n",
      "Epoch 28/50\n",
      "\u001b[1m688/688\u001b[0m \u001b[32m━━━━━━━━━━━━━━━━━━━━\u001b[0m\u001b[37m\u001b[0m \u001b[1m1s\u001b[0m 1ms/step - accuracy: 0.8302 - loss: 0.3503 - val_accuracy: 0.8267 - val_loss: 0.3546\n",
      "Epoch 29/50\n",
      "\u001b[1m688/688\u001b[0m \u001b[32m━━━━━━━━━━━━━━━━━━━━\u001b[0m\u001b[37m\u001b[0m \u001b[1m1s\u001b[0m 1ms/step - accuracy: 0.8289 - loss: 0.3492 - val_accuracy: 0.8285 - val_loss: 0.3534\n",
      "Epoch 30/50\n",
      "\u001b[1m688/688\u001b[0m \u001b[32m━━━━━━━━━━━━━━━━━━━━\u001b[0m\u001b[37m\u001b[0m \u001b[1m1s\u001b[0m 1ms/step - accuracy: 0.8287 - loss: 0.3493 - val_accuracy: 0.8271 - val_loss: 0.3517\n",
      "Epoch 31/50\n",
      "\u001b[1m688/688\u001b[0m \u001b[32m━━━━━━━━━━━━━━━━━━━━\u001b[0m\u001b[37m\u001b[0m \u001b[1m1s\u001b[0m 1ms/step - accuracy: 0.8266 - loss: 0.3500 - val_accuracy: 0.8298 - val_loss: 0.3511\n",
      "Epoch 32/50\n",
      "\u001b[1m688/688\u001b[0m \u001b[32m━━━━━━━━━━━━━━━━━━━━\u001b[0m\u001b[37m\u001b[0m \u001b[1m1s\u001b[0m 1ms/step - accuracy: 0.8300 - loss: 0.3452 - val_accuracy: 0.8288 - val_loss: 0.3497\n",
      "Epoch 33/50\n",
      "\u001b[1m688/688\u001b[0m \u001b[32m━━━━━━━━━━━━━━━━━━━━\u001b[0m\u001b[37m\u001b[0m \u001b[1m1s\u001b[0m 1ms/step - accuracy: 0.8301 - loss: 0.3452 - val_accuracy: 0.8294 - val_loss: 0.3480\n",
      "Epoch 34/50\n",
      "\u001b[1m688/688\u001b[0m \u001b[32m━━━━━━━━━━━━━━━━━━━━\u001b[0m\u001b[37m\u001b[0m \u001b[1m1s\u001b[0m 1ms/step - accuracy: 0.8310 - loss: 0.3434 - val_accuracy: 0.8309 - val_loss: 0.3473\n",
      "Epoch 35/50\n",
      "\u001b[1m688/688\u001b[0m \u001b[32m━━━━━━━━━━━━━━━━━━━━\u001b[0m\u001b[37m\u001b[0m \u001b[1m1s\u001b[0m 1ms/step - accuracy: 0.8307 - loss: 0.3441 - val_accuracy: 0.8281 - val_loss: 0.3463\n",
      "Epoch 36/50\n",
      "\u001b[1m688/688\u001b[0m \u001b[32m━━━━━━━━━━━━━━━━━━━━\u001b[0m\u001b[37m\u001b[0m \u001b[1m1s\u001b[0m 1ms/step - accuracy: 0.8335 - loss: 0.3392 - val_accuracy: 0.8312 - val_loss: 0.3446\n",
      "Epoch 37/50\n",
      "\u001b[1m688/688\u001b[0m \u001b[32m━━━━━━━━━━━━━━━━━━━━\u001b[0m\u001b[37m\u001b[0m \u001b[1m1s\u001b[0m 1ms/step - accuracy: 0.8325 - loss: 0.3403 - val_accuracy: 0.8307 - val_loss: 0.3437\n",
      "Epoch 38/50\n",
      "\u001b[1m688/688\u001b[0m \u001b[32m━━━━━━━━━━━━━━━━━━━━\u001b[0m\u001b[37m\u001b[0m \u001b[1m1s\u001b[0m 1ms/step - accuracy: 0.8320 - loss: 0.3412 - val_accuracy: 0.8312 - val_loss: 0.3428\n",
      "Epoch 39/50\n",
      "\u001b[1m688/688\u001b[0m \u001b[32m━━━━━━━━━━━━━━━━━━━━\u001b[0m\u001b[37m\u001b[0m \u001b[1m1s\u001b[0m 965us/step - accuracy: 0.8330 - loss: 0.3382 - val_accuracy: 0.8323 - val_loss: 0.3421\n",
      "Epoch 40/50\n",
      "\u001b[1m688/688\u001b[0m \u001b[32m━━━━━━━━━━━━━━━━━━━━\u001b[0m\u001b[37m\u001b[0m \u001b[1m1s\u001b[0m 1ms/step - accuracy: 0.8306 - loss: 0.3396 - val_accuracy: 0.8287 - val_loss: 0.3447\n",
      "Epoch 41/50\n",
      "\u001b[1m688/688\u001b[0m \u001b[32m━━━━━━━━━━━━━━━━━━━━\u001b[0m\u001b[37m\u001b[0m \u001b[1m1s\u001b[0m 986us/step - accuracy: 0.8329 - loss: 0.3363 - val_accuracy: 0.8308 - val_loss: 0.3418\n",
      "Epoch 42/50\n",
      "\u001b[1m688/688\u001b[0m \u001b[32m━━━━━━━━━━━━━━━━━━━━\u001b[0m\u001b[37m\u001b[0m \u001b[1m1s\u001b[0m 960us/step - accuracy: 0.8321 - loss: 0.3362 - val_accuracy: 0.8324 - val_loss: 0.3416\n",
      "Epoch 43/50\n",
      "\u001b[1m688/688\u001b[0m \u001b[32m━━━━━━━━━━━━━━━━━━━━\u001b[0m\u001b[37m\u001b[0m \u001b[1m1s\u001b[0m 1ms/step - accuracy: 0.8335 - loss: 0.3351 - val_accuracy: 0.8323 - val_loss: 0.3400\n",
      "Epoch 44/50\n",
      "\u001b[1m688/688\u001b[0m \u001b[32m━━━━━━━━━━━━━━━━━━━━\u001b[0m\u001b[37m\u001b[0m \u001b[1m1s\u001b[0m 1ms/step - accuracy: 0.8357 - loss: 0.3325 - val_accuracy: 0.8312 - val_loss: 0.3397\n",
      "Epoch 45/50\n",
      "\u001b[1m688/688\u001b[0m \u001b[32m━━━━━━━━━━━━━━━━━━━━\u001b[0m\u001b[37m\u001b[0m \u001b[1m1s\u001b[0m 1ms/step - accuracy: 0.8313 - loss: 0.3330 - val_accuracy: 0.8299 - val_loss: 0.3393\n",
      "Epoch 46/50\n",
      "\u001b[1m688/688\u001b[0m \u001b[32m━━━━━━━━━━━━━━━━━━━━\u001b[0m\u001b[37m\u001b[0m \u001b[1m1s\u001b[0m 964us/step - accuracy: 0.8317 - loss: 0.3351 - val_accuracy: 0.8322 - val_loss: 0.3385\n",
      "Epoch 47/50\n",
      "\u001b[1m688/688\u001b[0m \u001b[32m━━━━━━━━━━━━━━━━━━━━\u001b[0m\u001b[37m\u001b[0m \u001b[1m1s\u001b[0m 958us/step - accuracy: 0.8340 - loss: 0.3330 - val_accuracy: 0.8299 - val_loss: 0.3387\n",
      "Epoch 48/50\n",
      "\u001b[1m688/688\u001b[0m \u001b[32m━━━━━━━━━━━━━━━━━━━━\u001b[0m\u001b[37m\u001b[0m \u001b[1m1s\u001b[0m 1ms/step - accuracy: 0.8337 - loss: 0.3306 - val_accuracy: 0.8299 - val_loss: 0.3383\n",
      "Epoch 49/50\n",
      "\u001b[1m688/688\u001b[0m \u001b[32m━━━━━━━━━━━━━━━━━━━━\u001b[0m\u001b[37m\u001b[0m \u001b[1m1s\u001b[0m 1ms/step - accuracy: 0.8321 - loss: 0.3325 - val_accuracy: 0.8299 - val_loss: 0.3383\n",
      "Epoch 50/50\n",
      "\u001b[1m688/688\u001b[0m \u001b[32m━━━━━━━━━━━━━━━━━━━━\u001b[0m\u001b[37m\u001b[0m \u001b[1m1s\u001b[0m 1ms/step - accuracy: 0.8331 - loss: 0.3315 - val_accuracy: 0.8304 - val_loss: 0.3374\n"
     ]
    }
   ],
   "source": [
    "from keras.callbacks import ModelCheckpoint\n",
    "\n",
    "# Define the filepath where you want to save the best model weights\n",
    "checkpoint_filepath = r\"C:\\Users\\khang\\Elite 14 M-L\\Projects\\IPL-Data-set\\best_ipl_model_weights.keras\"\n",
    "\n",
    "# Create a ModelCheckpoint callback\n",
    "checkpoint_callback = ModelCheckpoint(\n",
    "    filepath=checkpoint_filepath,\n",
    "    monitor='val_loss',  # or 'val_accuracy' depending on your preference\n",
    "    save_best_only=True,\n",
    "    mode='min'  # or 'max' if monitoring accuracy\n",
    ")\n",
    "\n",
    "# Train the model with the ModelCheckpoint callback\n",
    "history = model.fit(\n",
    "    x_train_pp, y_train_encoded,\n",
    "    epochs=50,\n",
    "    batch_size=100,\n",
    "    validation_data=(x_test_pp, y_test_encoded),\n",
    "    callbacks=[checkpoint_callback]  # Pass the checkpoint callback here\n",
    ")\n"
   ]
  },
  {
   "cell_type": "code",
   "execution_count": 26,
   "id": "a69eda3a",
   "metadata": {},
   "outputs": [],
   "source": [
    "from keras.models import load_model\n",
    "\n",
    "# Load the model architecture\n",
    "best_model = load_model(r\"C:\\Users\\khang\\Elite 14 M-L\\Projects\\IPL-Data-set\\best_ipl_model_weights.keras\")"
   ]
  },
  {
   "cell_type": "code",
   "execution_count": null,
   "id": "1c9fc46e",
   "metadata": {},
   "outputs": [],
   "source": []
  },
  {
   "cell_type": "code",
   "execution_count": 27,
   "id": "0721f098",
   "metadata": {},
   "outputs": [
    {
     "name": "stdout",
     "output_type": "stream",
     "text": [
      "\u001b[1m1/1\u001b[0m \u001b[32m━━━━━━━━━━━━━━━━━━━━\u001b[0m\u001b[37m\u001b[0m \u001b[1m0s\u001b[0m 51ms/step\n"
     ]
    }
   ],
   "source": [
    "new_data_point = x_test_pp[0].reshape(1, -1)\n",
    "probability= best_model.predict(new_data_point)"
   ]
  },
  {
   "cell_type": "code",
   "execution_count": 28,
   "id": "7a8c492c",
   "metadata": {},
   "outputs": [
    {
     "name": "stdout",
     "output_type": "stream",
     "text": [
      "\u001b[1m1/1\u001b[0m \u001b[32m━━━━━━━━━━━━━━━━━━━━\u001b[0m\u001b[37m\u001b[0m \u001b[1m0s\u001b[0m 16ms/step\n"
     ]
    },
    {
     "data": {
      "text/plain": [
       "0"
      ]
     },
     "execution_count": 28,
     "metadata": {},
     "output_type": "execute_result"
    }
   ],
   "source": [
    "np.argmax(best_model.predict(new_data_point))"
   ]
  },
  {
   "cell_type": "code",
   "execution_count": 29,
   "id": "448020c6",
   "metadata": {},
   "outputs": [
    {
     "data": {
      "text/plain": [
       "array([[9.9986601e-01, 1.3402927e-04]], dtype=float32)"
      ]
     },
     "execution_count": 29,
     "metadata": {},
     "output_type": "execute_result"
    }
   ],
   "source": [
    "probability"
   ]
  },
  {
   "cell_type": "code",
   "execution_count": 30,
   "id": "dcee3767",
   "metadata": {},
   "outputs": [
    {
     "data": {
      "text/plain": [
       "array([[9.999924e+01, 7.673831e-04]])"
      ]
     },
     "execution_count": 30,
     "metadata": {},
     "output_type": "execute_result"
    }
   ],
   "source": [
    "predictions = np.array([[9.999924e-01, 7.673831e-06]])\n",
    "\n",
    "# Convert probabilities to percentages\n",
    "probabilities_percentage = predictions * 100\n",
    "probabilities_percentage"
   ]
  },
  {
   "cell_type": "code",
   "execution_count": 31,
   "id": "11805223",
   "metadata": {},
   "outputs": [],
   "source": [
    "input_data = pd.DataFrame({\n",
    "    'BattingTeam': [\"Chennai Super Kings\"],\n",
    "    'BowlingTeam': [\"Delhi Capitals\"],\n",
    "    'runs_left': [10],\n",
    "    'balls_left': [20],\n",
    "    'wickets_remaining': [5],\n",
    "    'target': [200],\n",
    "    'crr': [4.6],\n",
    "    'rrr': [5.6]\n",
    "})\n",
    "\n",
    "# Transform the input data using the ColumnTransformer\n",
    "x = ct.transform(input_data)"
   ]
  },
  {
   "cell_type": "code",
   "execution_count": 32,
   "id": "fb79a9f0",
   "metadata": {},
   "outputs": [
    {
     "name": "stdout",
     "output_type": "stream",
     "text": [
      "\u001b[1m1/1\u001b[0m \u001b[32m━━━━━━━━━━━━━━━━━━━━\u001b[0m\u001b[37m\u001b[0m \u001b[1m0s\u001b[0m 35ms/step\n",
      "[[0.04296285 0.9570372 ]]\n"
     ]
    }
   ],
   "source": [
    "new_data_point = x.reshape(1, -1)\n",
    "probabilities = best_model.predict(new_data_point)\n",
    "print(probabilities)"
   ]
  },
  {
   "cell_type": "code",
   "execution_count": 33,
   "id": "2bf9e0a4",
   "metadata": {},
   "outputs": [
    {
     "name": "stdout",
     "output_type": "stream",
     "text": [
      "\u001b[1m1/1\u001b[0m \u001b[32m━━━━━━━━━━━━━━━━━━━━\u001b[0m\u001b[37m\u001b[0m \u001b[1m0s\u001b[0m 34ms/step\n"
     ]
    },
    {
     "data": {
      "text/plain": [
       "1"
      ]
     },
     "execution_count": 33,
     "metadata": {},
     "output_type": "execute_result"
    }
   ],
   "source": [
    "np.argmax(best_model.predict(new_data_point))"
   ]
  },
  {
   "cell_type": "code",
   "execution_count": 34,
   "id": "642d25f1",
   "metadata": {},
   "outputs": [
    {
     "data": {
      "text/plain": [
       "4.296284914016724"
      ]
     },
     "execution_count": 34,
     "metadata": {},
     "output_type": "execute_result"
    }
   ],
   "source": [
    "probabilities[0][0]*100"
   ]
  },
  {
   "cell_type": "code",
   "execution_count": null,
   "id": "faddaae1",
   "metadata": {},
   "outputs": [],
   "source": []
  }
 ],
 "metadata": {
  "kernelspec": {
   "display_name": "Python 3 (ipykernel)",
   "language": "python",
   "name": "python3"
  },
  "language_info": {
   "codemirror_mode": {
    "name": "ipython",
    "version": 3
   },
   "file_extension": ".py",
   "mimetype": "text/x-python",
   "name": "python",
   "nbconvert_exporter": "python",
   "pygments_lexer": "ipython3",
   "version": "3.9.13"
  }
 },
 "nbformat": 4,
 "nbformat_minor": 5
}
